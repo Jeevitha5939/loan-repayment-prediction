{
 "cells": [
  {
   "cell_type": "markdown",
   "metadata": {},
   "source": [
    "## 1. Problem Statement\n",
    "---\n",
    "\n",
    "- Exploring publicly available data from __LendingClub.com__.\n",
    "\n",
    "- Lending Club connects people who need money __(borrowers)__ with people who have money __(investors)__.\n",
    "\n",
    "  - Try to create a model that will help predict people who have a profile of having a __high probability of paying back__.\n",
    "\n",
    "  \n",
    "  - This data is from _before they even went public_."
   ]
  },
  {
   "cell_type": "markdown",
   "metadata": {},
   "source": [
    "### 1.1. Objective:\n",
    "- The project aims to classify and predict whether borrowers will fully repay their loans or not."
   ]
  },
  {
   "cell_type": "markdown",
   "metadata": {},
   "source": [
    "## 2. Importing Libraries"
   ]
  },
  {
   "cell_type": "code",
   "execution_count": 1,
   "metadata": {
    "execution": {
     "iopub.execute_input": "2024-01-19T11:46:35.790073Z",
     "iopub.status.busy": "2024-01-19T11:46:35.785987Z",
     "iopub.status.idle": "2024-01-19T11:46:37.779599Z",
     "shell.execute_reply": "2024-01-19T11:46:37.778585Z",
     "shell.execute_reply.started": "2024-01-19T11:46:35.790031Z"
    }
   },
   "outputs": [],
   "source": [
    "import numpy as np\n",
    "import pandas as pd\n",
    "import seaborn as sns\n",
    "import matplotlib.pyplot as plt\n",
    "from sklearn.preprocessing import StandardScaler   "
   ]
  },
  {
   "cell_type": "code",
   "execution_count": 2,
   "metadata": {
    "execution": {
     "iopub.execute_input": "2024-01-19T11:46:37.782145Z",
     "iopub.status.busy": "2024-01-19T11:46:37.781514Z",
     "iopub.status.idle": "2024-01-19T11:46:38.122386Z",
     "shell.execute_reply": "2024-01-19T11:46:38.121202Z",
     "shell.execute_reply.started": "2024-01-19T11:46:37.782102Z"
    }
   },
   "outputs": [],
   "source": [
    "from sklearn.model_selection import train_test_split                             \n",
    "from sklearn.model_selection import cross_val_score                              \n",
    "from sklearn.tree import DecisionTreeClassifier                                   \n",
    "\n",
    "from sklearn.metrics import precision_recall_curve                                \n",
    "from sklearn.metrics import classification_report \n",
    "from sklearn.metrics import confusion_matrix\n",
    "from sklearn.metrics import ConfusionMatrixDisplay\n",
    "from sklearn.model_selection import GridSearchCV\n",
    "from sklearn.metrics import accuracy_score"
   ]
  },
  {
   "cell_type": "markdown",
   "metadata": {},
   "source": [
    "## 3. Data Acquisition"
   ]
  },
  {
   "cell_type": "code",
   "execution_count": 4,
   "metadata": {
    "execution": {
     "iopub.execute_input": "2024-01-19T11:46:38.125477Z",
     "iopub.status.busy": "2024-01-19T11:46:38.123889Z",
     "iopub.status.idle": "2024-01-19T11:46:38.207951Z",
     "shell.execute_reply": "2024-01-19T11:46:38.206860Z",
     "shell.execute_reply.started": "2024-01-19T11:46:38.125429Z"
    }
   },
   "outputs": [
    {
     "name": "stdout",
     "output_type": "stream",
     "text": [
      "Data Shape: (9578, 14)\n"
     ]
    },
    {
     "data": {
      "text/html": [
       "<div>\n",
       "<style scoped>\n",
       "    .dataframe tbody tr th:only-of-type {\n",
       "        vertical-align: middle;\n",
       "    }\n",
       "\n",
       "    .dataframe tbody tr th {\n",
       "        vertical-align: top;\n",
       "    }\n",
       "\n",
       "    .dataframe thead th {\n",
       "        text-align: right;\n",
       "    }\n",
       "</style>\n",
       "<table border=\"1\" class=\"dataframe\">\n",
       "  <thead>\n",
       "    <tr style=\"text-align: right;\">\n",
       "      <th></th>\n",
       "      <th>credit.policy</th>\n",
       "      <th>purpose</th>\n",
       "      <th>int.rate</th>\n",
       "      <th>installment</th>\n",
       "      <th>log.annual.inc</th>\n",
       "      <th>dti</th>\n",
       "      <th>fico</th>\n",
       "      <th>days.with.cr.line</th>\n",
       "      <th>revol.bal</th>\n",
       "      <th>revol.util</th>\n",
       "      <th>inq.last.6mths</th>\n",
       "      <th>delinq.2yrs</th>\n",
       "      <th>pub.rec</th>\n",
       "      <th>not.fully.paid</th>\n",
       "    </tr>\n",
       "  </thead>\n",
       "  <tbody>\n",
       "    <tr>\n",
       "      <th>0</th>\n",
       "      <td>1</td>\n",
       "      <td>debt_consolidation</td>\n",
       "      <td>0.1189</td>\n",
       "      <td>829.10</td>\n",
       "      <td>11.350407</td>\n",
       "      <td>19.48</td>\n",
       "      <td>737</td>\n",
       "      <td>5639.958333</td>\n",
       "      <td>28854</td>\n",
       "      <td>52.1</td>\n",
       "      <td>0</td>\n",
       "      <td>0</td>\n",
       "      <td>0</td>\n",
       "      <td>0</td>\n",
       "    </tr>\n",
       "    <tr>\n",
       "      <th>1</th>\n",
       "      <td>1</td>\n",
       "      <td>credit_card</td>\n",
       "      <td>0.1071</td>\n",
       "      <td>228.22</td>\n",
       "      <td>11.082143</td>\n",
       "      <td>14.29</td>\n",
       "      <td>707</td>\n",
       "      <td>2760.000000</td>\n",
       "      <td>33623</td>\n",
       "      <td>76.7</td>\n",
       "      <td>0</td>\n",
       "      <td>0</td>\n",
       "      <td>0</td>\n",
       "      <td>0</td>\n",
       "    </tr>\n",
       "    <tr>\n",
       "      <th>2</th>\n",
       "      <td>1</td>\n",
       "      <td>debt_consolidation</td>\n",
       "      <td>0.1357</td>\n",
       "      <td>366.86</td>\n",
       "      <td>10.373491</td>\n",
       "      <td>11.63</td>\n",
       "      <td>682</td>\n",
       "      <td>4710.000000</td>\n",
       "      <td>3511</td>\n",
       "      <td>25.6</td>\n",
       "      <td>1</td>\n",
       "      <td>0</td>\n",
       "      <td>0</td>\n",
       "      <td>0</td>\n",
       "    </tr>\n",
       "    <tr>\n",
       "      <th>3</th>\n",
       "      <td>1</td>\n",
       "      <td>debt_consolidation</td>\n",
       "      <td>0.1008</td>\n",
       "      <td>162.34</td>\n",
       "      <td>11.350407</td>\n",
       "      <td>8.10</td>\n",
       "      <td>712</td>\n",
       "      <td>2699.958333</td>\n",
       "      <td>33667</td>\n",
       "      <td>73.2</td>\n",
       "      <td>1</td>\n",
       "      <td>0</td>\n",
       "      <td>0</td>\n",
       "      <td>0</td>\n",
       "    </tr>\n",
       "    <tr>\n",
       "      <th>4</th>\n",
       "      <td>1</td>\n",
       "      <td>credit_card</td>\n",
       "      <td>0.1426</td>\n",
       "      <td>102.92</td>\n",
       "      <td>11.299732</td>\n",
       "      <td>14.97</td>\n",
       "      <td>667</td>\n",
       "      <td>4066.000000</td>\n",
       "      <td>4740</td>\n",
       "      <td>39.5</td>\n",
       "      <td>0</td>\n",
       "      <td>1</td>\n",
       "      <td>0</td>\n",
       "      <td>0</td>\n",
       "    </tr>\n",
       "  </tbody>\n",
       "</table>\n",
       "</div>"
      ],
      "text/plain": [
       "   credit.policy             purpose  int.rate  installment  log.annual.inc  \\\n",
       "0              1  debt_consolidation    0.1189       829.10       11.350407   \n",
       "1              1         credit_card    0.1071       228.22       11.082143   \n",
       "2              1  debt_consolidation    0.1357       366.86       10.373491   \n",
       "3              1  debt_consolidation    0.1008       162.34       11.350407   \n",
       "4              1         credit_card    0.1426       102.92       11.299732   \n",
       "\n",
       "     dti  fico  days.with.cr.line  revol.bal  revol.util  inq.last.6mths  \\\n",
       "0  19.48   737        5639.958333      28854        52.1               0   \n",
       "1  14.29   707        2760.000000      33623        76.7               0   \n",
       "2  11.63   682        4710.000000       3511        25.6               1   \n",
       "3   8.10   712        2699.958333      33667        73.2               1   \n",
       "4  14.97   667        4066.000000       4740        39.5               0   \n",
       "\n",
       "   delinq.2yrs  pub.rec  not.fully.paid  \n",
       "0            0        0               0  \n",
       "1            0        0               0  \n",
       "2            0        0               0  \n",
       "3            0        0               0  \n",
       "4            1        0               0  "
      ]
     },
     "execution_count": 4,
     "metadata": {},
     "output_type": "execute_result"
    }
   ],
   "source": [
    "data = pd.read_csv('loan_data.csv')\n",
    "print('Data Shape:', data.shape)\n",
    "data.head()"
   ]
  },
  {
   "cell_type": "markdown",
   "metadata": {},
   "source": [
    "\n",
    "\n",
    "## 4. Data Description\n",
    "\n",
    "- The dataset has been provided by lending club and its description is shown below in the table.\n"
   ]
  },
  {
   "cell_type": "markdown",
   "metadata": {},
   "source": [
    "| Records | Features | Dataset Size |\n",
    "| :-- | :-- | :-- |\n",
    "| 9578 | 14 | 733 KB | \n",
    "\n",
    "</br>\n",
    "\n",
    "|Id|Feature|Description|\n",
    "|:--|:--|:--|\n",
    "|01|**credit.policy**|1 if the customer meets the credit underwriting criteria of LendingClub.com, and 0 otherwise.|\n",
    "|02|**purpose**|The purpose to get the loan.|\n",
    "|03|**int.rate**|\tThe interest rate of the loan, as a proportion (a rate of 11% would be stored as 0.11). |\n",
    "|||Borrowers judged by LendingClub.com to be more risky are assigned higher interest rates.|\n",
    "|04|**installment**|The monthly installments owed by the borrower if the loan is funded.|\n",
    "|05|**log.annual.inc**|The natural log of the self-reported annual income of the borrower.|\n",
    "|06|**dti**|The debt-to-income ratio of the borrower (amount of debt divided by annual income).|\n",
    "|07|**fico**|The FICO credit score of the borrower.|\n",
    "|08|**days.with.cr.line**|The number of days the borrower has had a credit line.|\n",
    "|09|**revol.bal**|The borrower's revolving balance (amount unpaid at the end of the credit card billing cycle).|\n",
    "|10|**revol.util**|The borrower's revolving line utilization rate (the amount of the credit line used relative to total credit available).|\n",
    "|11|**inq.last.6mths**|The borrower's number of inquiries by creditors in the last 6 months.|\n",
    "|12|**delinq.2yrs**|The number of times the borrower had been 30+ days past due on a payment in the past 2 years.|\n",
    "|13|**pub.rec**|The borrower's number of derogatory public records (bankruptcy filings, tax liens, or judgments).|\n",
    "|14|**not.fully.paid**|Whether the loan amount fully paid or not.|\n"
   ]
  },
  {
   "cell_type": "markdown",
   "metadata": {},
   "source": [
    "## 5. Data Preprocessing"
   ]
  },
  {
   "cell_type": "code",
   "execution_count": 5,
   "metadata": {
    "execution": {
     "iopub.execute_input": "2024-01-19T11:46:38.212136Z",
     "iopub.status.busy": "2024-01-19T11:46:38.210849Z",
     "iopub.status.idle": "2024-01-19T11:46:38.286423Z",
     "shell.execute_reply": "2024-01-19T11:46:38.285215Z",
     "shell.execute_reply.started": "2024-01-19T11:46:38.212089Z"
    }
   },
   "outputs": [
    {
     "data": {
      "text/html": [
       "<div>\n",
       "<style scoped>\n",
       "    .dataframe tbody tr th:only-of-type {\n",
       "        vertical-align: middle;\n",
       "    }\n",
       "\n",
       "    .dataframe tbody tr th {\n",
       "        vertical-align: top;\n",
       "    }\n",
       "\n",
       "    .dataframe thead th {\n",
       "        text-align: right;\n",
       "    }\n",
       "</style>\n",
       "<table border=\"1\" class=\"dataframe\">\n",
       "  <thead>\n",
       "    <tr style=\"text-align: right;\">\n",
       "      <th></th>\n",
       "      <th>credit.policy</th>\n",
       "      <th>int.rate</th>\n",
       "      <th>installment</th>\n",
       "      <th>log.annual.inc</th>\n",
       "      <th>dti</th>\n",
       "      <th>fico</th>\n",
       "      <th>days.with.cr.line</th>\n",
       "      <th>revol.bal</th>\n",
       "      <th>revol.util</th>\n",
       "      <th>inq.last.6mths</th>\n",
       "      <th>delinq.2yrs</th>\n",
       "      <th>pub.rec</th>\n",
       "      <th>not.fully.paid</th>\n",
       "    </tr>\n",
       "  </thead>\n",
       "  <tbody>\n",
       "    <tr>\n",
       "      <th>count</th>\n",
       "      <td>9578.000000</td>\n",
       "      <td>9578.000000</td>\n",
       "      <td>9578.000000</td>\n",
       "      <td>9578.000000</td>\n",
       "      <td>9578.000000</td>\n",
       "      <td>9578.000000</td>\n",
       "      <td>9578.000000</td>\n",
       "      <td>9.578000e+03</td>\n",
       "      <td>9578.000000</td>\n",
       "      <td>9578.000000</td>\n",
       "      <td>9578.000000</td>\n",
       "      <td>9578.000000</td>\n",
       "      <td>9578.000000</td>\n",
       "    </tr>\n",
       "    <tr>\n",
       "      <th>mean</th>\n",
       "      <td>0.804970</td>\n",
       "      <td>0.122640</td>\n",
       "      <td>319.089413</td>\n",
       "      <td>10.932117</td>\n",
       "      <td>12.606679</td>\n",
       "      <td>710.846314</td>\n",
       "      <td>4560.767197</td>\n",
       "      <td>1.691396e+04</td>\n",
       "      <td>46.799236</td>\n",
       "      <td>1.577469</td>\n",
       "      <td>0.163708</td>\n",
       "      <td>0.062122</td>\n",
       "      <td>0.160054</td>\n",
       "    </tr>\n",
       "    <tr>\n",
       "      <th>std</th>\n",
       "      <td>0.396245</td>\n",
       "      <td>0.026847</td>\n",
       "      <td>207.071301</td>\n",
       "      <td>0.614813</td>\n",
       "      <td>6.883970</td>\n",
       "      <td>37.970537</td>\n",
       "      <td>2496.930377</td>\n",
       "      <td>3.375619e+04</td>\n",
       "      <td>29.014417</td>\n",
       "      <td>2.200245</td>\n",
       "      <td>0.546215</td>\n",
       "      <td>0.262126</td>\n",
       "      <td>0.366676</td>\n",
       "    </tr>\n",
       "    <tr>\n",
       "      <th>min</th>\n",
       "      <td>0.000000</td>\n",
       "      <td>0.060000</td>\n",
       "      <td>15.670000</td>\n",
       "      <td>7.547502</td>\n",
       "      <td>0.000000</td>\n",
       "      <td>612.000000</td>\n",
       "      <td>178.958333</td>\n",
       "      <td>0.000000e+00</td>\n",
       "      <td>0.000000</td>\n",
       "      <td>0.000000</td>\n",
       "      <td>0.000000</td>\n",
       "      <td>0.000000</td>\n",
       "      <td>0.000000</td>\n",
       "    </tr>\n",
       "    <tr>\n",
       "      <th>25%</th>\n",
       "      <td>1.000000</td>\n",
       "      <td>0.103900</td>\n",
       "      <td>163.770000</td>\n",
       "      <td>10.558414</td>\n",
       "      <td>7.212500</td>\n",
       "      <td>682.000000</td>\n",
       "      <td>2820.000000</td>\n",
       "      <td>3.187000e+03</td>\n",
       "      <td>22.600000</td>\n",
       "      <td>0.000000</td>\n",
       "      <td>0.000000</td>\n",
       "      <td>0.000000</td>\n",
       "      <td>0.000000</td>\n",
       "    </tr>\n",
       "    <tr>\n",
       "      <th>50%</th>\n",
       "      <td>1.000000</td>\n",
       "      <td>0.122100</td>\n",
       "      <td>268.950000</td>\n",
       "      <td>10.928884</td>\n",
       "      <td>12.665000</td>\n",
       "      <td>707.000000</td>\n",
       "      <td>4139.958333</td>\n",
       "      <td>8.596000e+03</td>\n",
       "      <td>46.300000</td>\n",
       "      <td>1.000000</td>\n",
       "      <td>0.000000</td>\n",
       "      <td>0.000000</td>\n",
       "      <td>0.000000</td>\n",
       "    </tr>\n",
       "    <tr>\n",
       "      <th>75%</th>\n",
       "      <td>1.000000</td>\n",
       "      <td>0.140700</td>\n",
       "      <td>432.762500</td>\n",
       "      <td>11.291293</td>\n",
       "      <td>17.950000</td>\n",
       "      <td>737.000000</td>\n",
       "      <td>5730.000000</td>\n",
       "      <td>1.824950e+04</td>\n",
       "      <td>70.900000</td>\n",
       "      <td>2.000000</td>\n",
       "      <td>0.000000</td>\n",
       "      <td>0.000000</td>\n",
       "      <td>0.000000</td>\n",
       "    </tr>\n",
       "    <tr>\n",
       "      <th>max</th>\n",
       "      <td>1.000000</td>\n",
       "      <td>0.216400</td>\n",
       "      <td>940.140000</td>\n",
       "      <td>14.528354</td>\n",
       "      <td>29.960000</td>\n",
       "      <td>827.000000</td>\n",
       "      <td>17639.958330</td>\n",
       "      <td>1.207359e+06</td>\n",
       "      <td>119.000000</td>\n",
       "      <td>33.000000</td>\n",
       "      <td>13.000000</td>\n",
       "      <td>5.000000</td>\n",
       "      <td>1.000000</td>\n",
       "    </tr>\n",
       "  </tbody>\n",
       "</table>\n",
       "</div>"
      ],
      "text/plain": [
       "       credit.policy     int.rate  installment  log.annual.inc          dti  \\\n",
       "count    9578.000000  9578.000000  9578.000000     9578.000000  9578.000000   \n",
       "mean        0.804970     0.122640   319.089413       10.932117    12.606679   \n",
       "std         0.396245     0.026847   207.071301        0.614813     6.883970   \n",
       "min         0.000000     0.060000    15.670000        7.547502     0.000000   \n",
       "25%         1.000000     0.103900   163.770000       10.558414     7.212500   \n",
       "50%         1.000000     0.122100   268.950000       10.928884    12.665000   \n",
       "75%         1.000000     0.140700   432.762500       11.291293    17.950000   \n",
       "max         1.000000     0.216400   940.140000       14.528354    29.960000   \n",
       "\n",
       "              fico  days.with.cr.line     revol.bal   revol.util  \\\n",
       "count  9578.000000        9578.000000  9.578000e+03  9578.000000   \n",
       "mean    710.846314        4560.767197  1.691396e+04    46.799236   \n",
       "std      37.970537        2496.930377  3.375619e+04    29.014417   \n",
       "min     612.000000         178.958333  0.000000e+00     0.000000   \n",
       "25%     682.000000        2820.000000  3.187000e+03    22.600000   \n",
       "50%     707.000000        4139.958333  8.596000e+03    46.300000   \n",
       "75%     737.000000        5730.000000  1.824950e+04    70.900000   \n",
       "max     827.000000       17639.958330  1.207359e+06   119.000000   \n",
       "\n",
       "       inq.last.6mths  delinq.2yrs      pub.rec  not.fully.paid  \n",
       "count     9578.000000  9578.000000  9578.000000     9578.000000  \n",
       "mean         1.577469     0.163708     0.062122        0.160054  \n",
       "std          2.200245     0.546215     0.262126        0.366676  \n",
       "min          0.000000     0.000000     0.000000        0.000000  \n",
       "25%          0.000000     0.000000     0.000000        0.000000  \n",
       "50%          1.000000     0.000000     0.000000        0.000000  \n",
       "75%          2.000000     0.000000     0.000000        0.000000  \n",
       "max         33.000000    13.000000     5.000000        1.000000  "
      ]
     },
     "execution_count": 5,
     "metadata": {},
     "output_type": "execute_result"
    }
   ],
   "source": [
    "data.describe()"
   ]
  },
  {
   "cell_type": "markdown",
   "metadata": {},
   "source": [
    "**Observations:**\n",
    "\n",
    "> **credit.policy:**\n",
    "- We observe that nearly three-quarters of the data in the field 'credit.policy' have a value of **1**, with a mean of 0.80, indicating a close proximity to 1.\n",
    "- Implies that majority of the customers meets the criteria of lending club.\n",
    "\n",
    "> **int.rate:**\n",
    "- The average interest rate is **12.26%**.\n",
    "- 25% of the customers are bound with the interest rate of 10.4%\n",
    "- 50% of the customers are bound with the interest rate of 12.2%.\n",
    "- 75% of the customers are bound with the interest rate of 14%.\n",
    "\n",
    "> **dti:**\n",
    "- The majority **(75%)** of customers exhibit a debt equivalent to **17.9%** of their respective income."
   ]
  },
  {
   "cell_type": "code",
   "execution_count": 6,
   "metadata": {
    "execution": {
     "iopub.execute_input": "2024-01-19T11:46:38.296223Z",
     "iopub.status.busy": "2024-01-19T11:46:38.292633Z",
     "iopub.status.idle": "2024-01-19T11:46:38.332323Z",
     "shell.execute_reply": "2024-01-19T11:46:38.331047Z",
     "shell.execute_reply.started": "2024-01-19T11:46:38.296167Z"
    }
   },
   "outputs": [
    {
     "name": "stdout",
     "output_type": "stream",
     "text": [
      "<class 'pandas.core.frame.DataFrame'>\n",
      "RangeIndex: 9578 entries, 0 to 9577\n",
      "Data columns (total 14 columns):\n",
      " #   Column             Non-Null Count  Dtype  \n",
      "---  ------             --------------  -----  \n",
      " 0   credit.policy      9578 non-null   int64  \n",
      " 1   purpose            9578 non-null   object \n",
      " 2   int.rate           9578 non-null   float64\n",
      " 3   installment        9578 non-null   float64\n",
      " 4   log.annual.inc     9578 non-null   float64\n",
      " 5   dti                9578 non-null   float64\n",
      " 6   fico               9578 non-null   int64  \n",
      " 7   days.with.cr.line  9578 non-null   float64\n",
      " 8   revol.bal          9578 non-null   int64  \n",
      " 9   revol.util         9578 non-null   float64\n",
      " 10  inq.last.6mths     9578 non-null   int64  \n",
      " 11  delinq.2yrs        9578 non-null   int64  \n",
      " 12  pub.rec            9578 non-null   int64  \n",
      " 13  not.fully.paid     9578 non-null   int64  \n",
      "dtypes: float64(6), int64(7), object(1)\n",
      "memory usage: 1.0+ MB\n"
     ]
    }
   ],
   "source": [
    "data.info()"
   ]
  },
  {
   "cell_type": "markdown",
   "metadata": {},
   "source": [
    "**Observation:**\n",
    "\n",
    "- We observe the absence of **null data**, and all features have the correct data types."
   ]
  },
  {
   "cell_type": "markdown",
   "metadata": {},
   "source": [
    "- Function that transforms credit.policy and not.fully.paid to correct data type."
   ]
  },
  {
   "cell_type": "code",
   "execution_count": 7,
   "metadata": {
    "execution": {
     "iopub.execute_input": "2024-01-19T11:46:38.334134Z",
     "iopub.status.busy": "2024-01-19T11:46:38.333711Z",
     "iopub.status.idle": "2024-01-19T11:46:38.341374Z",
     "shell.execute_reply": "2024-01-19T11:46:38.340182Z",
     "shell.execute_reply.started": "2024-01-19T11:46:38.334096Z"
    }
   },
   "outputs": [],
   "source": [
    "def transformdtype(feature=None, type=None):\n",
    "      data[feature] = data[feature].astype(type)"
   ]
  },
  {
   "cell_type": "code",
   "execution_count": 8,
   "metadata": {
    "execution": {
     "iopub.execute_input": "2024-01-19T11:46:38.343479Z",
     "iopub.status.busy": "2024-01-19T11:46:38.342963Z",
     "iopub.status.idle": "2024-01-19T11:46:38.354312Z",
     "shell.execute_reply": "2024-01-19T11:46:38.353027Z",
     "shell.execute_reply.started": "2024-01-19T11:46:38.343439Z"
    }
   },
   "outputs": [],
   "source": [
    "transformdtype(feature = 'credit.policy', type = 'int')\n",
    "transformdtype(feature = 'not.fully.paid', type = 'int')"
   ]
  },
  {
   "cell_type": "markdown",
   "metadata": {},
   "source": [
    "## 6. Exploratory Data Analysis"
   ]
  },
  {
   "cell_type": "markdown",
   "metadata": {},
   "source": [
    "- Function that generates distribution of fico feature for each credit policy."
   ]
  },
  {
   "cell_type": "code",
   "execution_count": 9,
   "metadata": {
    "execution": {
     "iopub.execute_input": "2024-01-19T11:46:38.357408Z",
     "iopub.status.busy": "2024-01-19T11:46:38.355998Z",
     "iopub.status.idle": "2024-01-19T11:46:38.365662Z",
     "shell.execute_reply": "2024-01-19T11:46:38.364513Z",
     "shell.execute_reply.started": "2024-01-19T11:46:38.357361Z"
    }
   },
   "outputs": [],
   "source": [
    "def ficoandcredpol(data=None):\n",
    "    plt.figure(figsize = (15,7))\n",
    "    sns.histplot(data= data, x= 'fico', hue= 'credit.policy', kde =True)\n",
    "    \n",
    "    plt.xticks(size=12)\n",
    "    plt.yticks(size=12)\n",
    "    plt.xlabel('Fico', size=14)\n",
    "    plt.ylabel('Credit Policy', size =14)\n",
    "    plt.title(label='Frequency Distribution of Fico vs Credit Policy', size=16)\n",
    "    plt.show()"
   ]
  },
  {
   "cell_type": "code",
   "execution_count": 10,
   "metadata": {
    "execution": {
     "iopub.execute_input": "2024-01-19T11:46:38.368357Z",
     "iopub.status.busy": "2024-01-19T11:46:38.367557Z",
     "iopub.status.idle": "2024-01-19T11:46:39.061101Z",
     "shell.execute_reply": "2024-01-19T11:46:39.059997Z",
     "shell.execute_reply.started": "2024-01-19T11:46:38.368313Z"
    }
   },
   "outputs": [
    {
     "data": {
      "image/png": "[encoded data removed]",
      "text/plain": [
       "<Figure size 1080x504 with 1 Axes>"
      ]
     },
     "metadata": {
      "needs_background": "light"
     },
     "output_type": "display_data"
    }
   ],
   "source": [
    "ficoandcredpol(data)"
   ]
  },
  {
   "cell_type": "markdown",
   "metadata": {},
   "source": [
    "- Function that generates distribution of fico feature concerning not fully paid feature.</h4>"
   ]
  },
  {
   "cell_type": "code",
   "execution_count": 11,
   "metadata": {
    "execution": {
     "iopub.execute_input": "2024-01-19T11:46:39.066052Z",
     "iopub.status.busy": "2024-01-19T11:46:39.064776Z",
     "iopub.status.idle": "2024-01-19T11:46:39.073922Z",
     "shell.execute_reply": "2024-01-19T11:46:39.072744Z",
     "shell.execute_reply.started": "2024-01-19T11:46:39.065995Z"
    }
   },
   "outputs": [],
   "source": [
    "def ficonotfullypaid(data=None):\n",
    "    plt.figure(figsize = (15,8))\n",
    "    sns.histplot(data= data, x = 'fico', hue = 'not.fully.paid', kde =True)\n",
    "    \n",
    "    plt.xticks(size=12)\n",
    "    plt.yticks(size=12)    \n",
    "    plt.xlabel('Fico', size=14)\n",
    "    plt.ylabel('Not Fully Paid', size =14)\n",
    "    plt.title(label='Frequency Distribution of Fico vs Not Fully Paid', size=16)\n",
    "    plt.show()"
   ]
  },
  {
   "cell_type": "code",
   "execution_count": 12,
   "metadata": {
    "execution": {
     "iopub.execute_input": "2024-01-19T11:46:39.077126Z",
     "iopub.status.busy": "2024-01-19T11:46:39.076415Z",
     "iopub.status.idle": "2024-01-19T11:46:39.758143Z",
     "shell.execute_reply": "2024-01-19T11:46:39.756816Z",
     "shell.execute_reply.started": "2024-01-19T11:46:39.077084Z"
    }
   },
   "outputs": [
    {
     "data": {
      "image/png": "[encoded data removed]",
      "text/plain": [
       "<Figure size 1080x576 with 1 Axes>"
      ]
     },
     "metadata": {
      "needs_background": "light"
     },
     "output_type": "display_data"
    }
   ],
   "source": [
    "ficonotfullypaid(data)"
   ]
  },
  {
   "cell_type": "markdown",
   "metadata": {},
   "source": [
    "- Function that shows distribution of purpose along the data."
   ]
  },
  {
   "cell_type": "code",
   "execution_count": 13,
   "metadata": {
    "execution": {
     "iopub.execute_input": "2024-01-19T11:46:39.760159Z",
     "iopub.status.busy": "2024-01-19T11:46:39.759694Z",
     "iopub.status.idle": "2024-01-19T11:46:40.129608Z",
     "shell.execute_reply": "2024-01-19T11:46:40.128822Z",
     "shell.execute_reply.started": "2024-01-19T11:46:39.760115Z"
    }
   },
   "outputs": [
    {
     "data": {
      "image/png": "[encoded data removed]",
      "text/plain": [
       "<Figure size 1080x576 with 1 Axes>"
      ]
     },
     "metadata": {
      "needs_background": "light"
     },
     "output_type": "display_data"
    }
   ],
   "source": [
    "plt.figure(figsize = (15,8))\n",
    "data['purpose'].value_counts().plot.bar(color='seagreen')\n",
    "\n",
    "plt.xticks(size=12)\n",
    "plt.yticks(size=12)\n",
    "plt.xlabel(xlabel='Purpose', size=14)\n",
    "plt.ylabel(ylabel='Frequency', size=14)\n",
    "plt.title(label='Purpose Distribution', size=16)\n",
    "plt.show()"
   ]
  },
  {
   "cell_type": "markdown",
   "metadata": {},
   "source": [
    "- Function that shows association between purpose and not fully paid feature."
   ]
  },
  {
   "cell_type": "code",
   "execution_count": 14,
   "metadata": {
    "execution": {
     "iopub.execute_input": "2024-01-19T11:46:40.131641Z",
     "iopub.status.busy": "2024-01-19T11:46:40.130702Z",
     "iopub.status.idle": "2024-01-19T11:46:40.137130Z",
     "shell.execute_reply": "2024-01-19T11:46:40.136390Z",
     "shell.execute_reply.started": "2024-01-19T11:46:40.131608Z"
    }
   },
   "outputs": [],
   "source": [
    "def purposenotfullypaid(data=None):\n",
    "    plt.figure(figsize = (15,8))\n",
    "    sns.countplot(x = 'purpose', hue = 'not.fully.paid', data=data)\n",
    "    plt.legend(labels=['Purpose Not Fully Paid 0', 'Purpose Not Fully Paid 1'])\n",
    "    \n",
    "    plt.xticks(size=12)\n",
    "    plt.yticks(size=12)\n",
    "    plt.xlabel(xlabel='Purpose', size=14)\n",
    "    plt.ylabel(ylabel='Frequency', size=14)\n",
    "    plt.title(label='Purpose vs Not Fully Paid', size=16)\n",
    "    plt.show()"
   ]
  },
  {
   "cell_type": "code",
   "execution_count": 15,
   "metadata": {
    "execution": {
     "iopub.execute_input": "2024-01-19T11:46:40.138843Z",
     "iopub.status.busy": "2024-01-19T11:46:40.138253Z",
     "iopub.status.idle": "2024-01-19T11:46:40.583257Z",
     "shell.execute_reply": "2024-01-19T11:46:40.581971Z",
     "shell.execute_reply.started": "2024-01-19T11:46:40.138813Z"
    }
   },
   "outputs": [
    {
     "data": {
      "image/png": "[encoded data removed]",
      "text/plain": [
       "<Figure size 1080x576 with 1 Axes>"
      ]
     },
     "metadata": {
      "needs_background": "light"
     },
     "output_type": "display_data"
    }
   ],
   "source": [
    "purposenotfullypaid(data)"
   ]
  },
  {
   "cell_type": "markdown",
   "metadata": {},
   "source": [
    "## 7. Data Post-Processing"
   ]
  },
  {
   "cell_type": "markdown",
   "metadata": {},
   "source": [
    "### 7.1 Feature Encoding"
   ]
  },
  {
   "cell_type": "code",
   "execution_count": 16,
   "metadata": {
    "execution": {
     "iopub.execute_input": "2024-01-19T11:46:40.585237Z",
     "iopub.status.busy": "2024-01-19T11:46:40.584762Z",
     "iopub.status.idle": "2024-01-19T11:46:40.621611Z",
     "shell.execute_reply": "2024-01-19T11:46:40.620352Z",
     "shell.execute_reply.started": "2024-01-19T11:46:40.585195Z"
    }
   },
   "outputs": [
    {
     "data": {
      "text/html": [
       "<div>\n",
       "<style scoped>\n",
       "    .dataframe tbody tr th:only-of-type {\n",
       "        vertical-align: middle;\n",
       "    }\n",
       "\n",
       "    .dataframe tbody tr th {\n",
       "        vertical-align: top;\n",
       "    }\n",
       "\n",
       "    .dataframe thead th {\n",
       "        text-align: right;\n",
       "    }\n",
       "</style>\n",
       "<table border=\"1\" class=\"dataframe\">\n",
       "  <thead>\n",
       "    <tr style=\"text-align: right;\">\n",
       "      <th></th>\n",
       "      <th>credit.policy</th>\n",
       "      <th>int.rate</th>\n",
       "      <th>installment</th>\n",
       "      <th>log.annual.inc</th>\n",
       "      <th>dti</th>\n",
       "      <th>fico</th>\n",
       "      <th>days.with.cr.line</th>\n",
       "      <th>revol.bal</th>\n",
       "      <th>revol.util</th>\n",
       "      <th>inq.last.6mths</th>\n",
       "      <th>delinq.2yrs</th>\n",
       "      <th>pub.rec</th>\n",
       "      <th>not.fully.paid</th>\n",
       "      <th>purpose_all_other</th>\n",
       "      <th>purpose_credit_card</th>\n",
       "      <th>purpose_debt_consolidation</th>\n",
       "      <th>purpose_educational</th>\n",
       "      <th>purpose_home_improvement</th>\n",
       "      <th>purpose_major_purchase</th>\n",
       "      <th>purpose_small_business</th>\n",
       "    </tr>\n",
       "  </thead>\n",
       "  <tbody>\n",
       "    <tr>\n",
       "      <th>0</th>\n",
       "      <td>1</td>\n",
       "      <td>0.1189</td>\n",
       "      <td>829.10</td>\n",
       "      <td>11.350407</td>\n",
       "      <td>19.48</td>\n",
       "      <td>737</td>\n",
       "      <td>5639.958333</td>\n",
       "      <td>28854</td>\n",
       "      <td>52.1</td>\n",
       "      <td>0</td>\n",
       "      <td>0</td>\n",
       "      <td>0</td>\n",
       "      <td>0</td>\n",
       "      <td>0</td>\n",
       "      <td>0</td>\n",
       "      <td>1</td>\n",
       "      <td>0</td>\n",
       "      <td>0</td>\n",
       "      <td>0</td>\n",
       "      <td>0</td>\n",
       "    </tr>\n",
       "    <tr>\n",
       "      <th>1</th>\n",
       "      <td>1</td>\n",
       "      <td>0.1071</td>\n",
       "      <td>228.22</td>\n",
       "      <td>11.082143</td>\n",
       "      <td>14.29</td>\n",
       "      <td>707</td>\n",
       "      <td>2760.000000</td>\n",
       "      <td>33623</td>\n",
       "      <td>76.7</td>\n",
       "      <td>0</td>\n",
       "      <td>0</td>\n",
       "      <td>0</td>\n",
       "      <td>0</td>\n",
       "      <td>0</td>\n",
       "      <td>1</td>\n",
       "      <td>0</td>\n",
       "      <td>0</td>\n",
       "      <td>0</td>\n",
       "      <td>0</td>\n",
       "      <td>0</td>\n",
       "    </tr>\n",
       "    <tr>\n",
       "      <th>2</th>\n",
       "      <td>1</td>\n",
       "      <td>0.1357</td>\n",
       "      <td>366.86</td>\n",
       "      <td>10.373491</td>\n",
       "      <td>11.63</td>\n",
       "      <td>682</td>\n",
       "      <td>4710.000000</td>\n",
       "      <td>3511</td>\n",
       "      <td>25.6</td>\n",
       "      <td>1</td>\n",
       "      <td>0</td>\n",
       "      <td>0</td>\n",
       "      <td>0</td>\n",
       "      <td>0</td>\n",
       "      <td>0</td>\n",
       "      <td>1</td>\n",
       "      <td>0</td>\n",
       "      <td>0</td>\n",
       "      <td>0</td>\n",
       "      <td>0</td>\n",
       "    </tr>\n",
       "    <tr>\n",
       "      <th>3</th>\n",
       "      <td>1</td>\n",
       "      <td>0.1008</td>\n",
       "      <td>162.34</td>\n",
       "      <td>11.350407</td>\n",
       "      <td>8.10</td>\n",
       "      <td>712</td>\n",
       "      <td>2699.958333</td>\n",
       "      <td>33667</td>\n",
       "      <td>73.2</td>\n",
       "      <td>1</td>\n",
       "      <td>0</td>\n",
       "      <td>0</td>\n",
       "      <td>0</td>\n",
       "      <td>0</td>\n",
       "      <td>0</td>\n",
       "      <td>1</td>\n",
       "      <td>0</td>\n",
       "      <td>0</td>\n",
       "      <td>0</td>\n",
       "      <td>0</td>\n",
       "    </tr>\n",
       "    <tr>\n",
       "      <th>4</th>\n",
       "      <td>1</td>\n",
       "      <td>0.1426</td>\n",
       "      <td>102.92</td>\n",
       "      <td>11.299732</td>\n",
       "      <td>14.97</td>\n",
       "      <td>667</td>\n",
       "      <td>4066.000000</td>\n",
       "      <td>4740</td>\n",
       "      <td>39.5</td>\n",
       "      <td>0</td>\n",
       "      <td>1</td>\n",
       "      <td>0</td>\n",
       "      <td>0</td>\n",
       "      <td>0</td>\n",
       "      <td>1</td>\n",
       "      <td>0</td>\n",
       "      <td>0</td>\n",
       "      <td>0</td>\n",
       "      <td>0</td>\n",
       "      <td>0</td>\n",
       "    </tr>\n",
       "  </tbody>\n",
       "</table>\n",
       "</div>"
      ],
      "text/plain": [
       "   credit.policy  int.rate  installment  log.annual.inc    dti  fico  \\\n",
       "0              1    0.1189       829.10       11.350407  19.48   737   \n",
       "1              1    0.1071       228.22       11.082143  14.29   707   \n",
       "2              1    0.1357       366.86       10.373491  11.63   682   \n",
       "3              1    0.1008       162.34       11.350407   8.10   712   \n",
       "4              1    0.1426       102.92       11.299732  14.97   667   \n",
       "\n",
       "   days.with.cr.line  revol.bal  revol.util  inq.last.6mths  delinq.2yrs  \\\n",
       "0        5639.958333      28854        52.1               0            0   \n",
       "1        2760.000000      33623        76.7               0            0   \n",
       "2        4710.000000       3511        25.6               1            0   \n",
       "3        2699.958333      33667        73.2               1            0   \n",
       "4        4066.000000       4740        39.5               0            1   \n",
       "\n",
       "   pub.rec  not.fully.paid  purpose_all_other  purpose_credit_card  \\\n",
       "0        0               0                  0                    0   \n",
       "1        0               0                  0                    1   \n",
       "2        0               0                  0                    0   \n",
       "3        0               0                  0                    0   \n",
       "4        0               0                  0                    1   \n",
       "\n",
       "   purpose_debt_consolidation  purpose_educational  purpose_home_improvement  \\\n",
       "0                           1                    0                         0   \n",
       "1                           0                    0                         0   \n",
       "2                           1                    0                         0   \n",
       "3                           1                    0                         0   \n",
       "4                           0                    0                         0   \n",
       "\n",
       "   purpose_major_purchase  purpose_small_business  \n",
       "0                       0                       0  \n",
       "1                       0                       0  \n",
       "2                       0                       0  \n",
       "3                       0                       0  \n",
       "4                       0                       0  "
      ]
     },
     "execution_count": 16,
     "metadata": {},
     "output_type": "execute_result"
    }
   ],
   "source": [
    "data_p = pd.get_dummies(data=data, columns = ['purpose'])\n",
    "data_p.head()"
   ]
  },
  {
   "cell_type": "markdown",
   "metadata": {},
   "source": [
    "- One Hot Encoding returned boolean values in the required fields.\n",
    "- Converting boolean to integer manually."
   ]
  },
  {
   "cell_type": "code",
   "execution_count": 17,
   "metadata": {
    "execution": {
     "iopub.execute_input": "2024-01-19T11:46:40.623522Z",
     "iopub.status.busy": "2024-01-19T11:46:40.623116Z",
     "iopub.status.idle": "2024-01-19T11:46:40.632589Z",
     "shell.execute_reply": "2024-01-19T11:46:40.631211Z",
     "shell.execute_reply.started": "2024-01-19T11:46:40.623484Z"
    }
   },
   "outputs": [
    {
     "data": {
      "text/plain": [
       "Index(['credit.policy', 'int.rate', 'installment', 'log.annual.inc', 'dti',\n",
       "       'fico', 'days.with.cr.line', 'revol.bal', 'revol.util',\n",
       "       'inq.last.6mths', 'delinq.2yrs', 'pub.rec', 'not.fully.paid',\n",
       "       'purpose_all_other', 'purpose_credit_card',\n",
       "       'purpose_debt_consolidation', 'purpose_educational',\n",
       "       'purpose_home_improvement', 'purpose_major_purchase',\n",
       "       'purpose_small_business'],\n",
       "      dtype='object')"
      ]
     },
     "execution_count": 17,
     "metadata": {},
     "output_type": "execute_result"
    }
   ],
   "source": [
    "data_p.columns"
   ]
  },
  {
   "cell_type": "code",
   "execution_count": 18,
   "metadata": {
    "execution": {
     "iopub.execute_input": "2024-01-19T11:46:40.635357Z",
     "iopub.status.busy": "2024-01-19T11:46:40.634731Z",
     "iopub.status.idle": "2024-01-19T11:46:40.642136Z",
     "shell.execute_reply": "2024-01-19T11:46:40.640883Z",
     "shell.execute_reply.started": "2024-01-19T11:46:40.635314Z"
    }
   },
   "outputs": [],
   "source": [
    "data_p['purpose_all_other'] = data_p['purpose_all_other'].astype(int) "
   ]
  },
  {
   "cell_type": "code",
   "execution_count": 19,
   "metadata": {
    "execution": {
     "iopub.execute_input": "2024-01-19T11:46:40.644264Z",
     "iopub.status.busy": "2024-01-19T11:46:40.643783Z",
     "iopub.status.idle": "2024-01-19T11:46:40.656075Z",
     "shell.execute_reply": "2024-01-19T11:46:40.654869Z",
     "shell.execute_reply.started": "2024-01-19T11:46:40.644225Z"
    }
   },
   "outputs": [
    {
     "data": {
      "text/plain": [
       "0       0\n",
       "1       0\n",
       "2       0\n",
       "3       0\n",
       "4       0\n",
       "       ..\n",
       "9573    1\n",
       "9574    1\n",
       "9575    0\n",
       "9576    0\n",
       "9577    0\n",
       "Name: purpose_all_other, Length: 9578, dtype: int32"
      ]
     },
     "execution_count": 19,
     "metadata": {},
     "output_type": "execute_result"
    }
   ],
   "source": [
    "data_p['purpose_all_other']"
   ]
  },
  {
   "cell_type": "code",
   "execution_count": 20,
   "metadata": {
    "execution": {
     "iopub.execute_input": "2024-01-19T11:46:40.658111Z",
     "iopub.status.busy": "2024-01-19T11:46:40.657583Z",
     "iopub.status.idle": "2024-01-19T11:46:40.669765Z",
     "shell.execute_reply": "2024-01-19T11:46:40.668464Z",
     "shell.execute_reply.started": "2024-01-19T11:46:40.658070Z"
    }
   },
   "outputs": [
    {
     "data": {
      "text/plain": [
       "Index(['credit.policy', 'int.rate', 'installment', 'log.annual.inc', 'dti',\n",
       "       'fico', 'days.with.cr.line', 'revol.bal', 'revol.util',\n",
       "       'inq.last.6mths', 'delinq.2yrs', 'pub.rec', 'not.fully.paid',\n",
       "       'purpose_all_other', 'purpose_credit_card',\n",
       "       'purpose_debt_consolidation', 'purpose_educational',\n",
       "       'purpose_home_improvement', 'purpose_major_purchase',\n",
       "       'purpose_small_business'],\n",
       "      dtype='object')"
      ]
     },
     "execution_count": 20,
     "metadata": {},
     "output_type": "execute_result"
    }
   ],
   "source": [
    "col_list_new = data_p.columns\n",
    "col_list_new"
   ]
  },
  {
   "cell_type": "code",
   "execution_count": 21,
   "metadata": {
    "execution": {
     "iopub.execute_input": "2024-01-19T11:46:40.672054Z",
     "iopub.status.busy": "2024-01-19T11:46:40.671527Z",
     "iopub.status.idle": "2024-01-19T11:46:40.681677Z",
     "shell.execute_reply": "2024-01-19T11:46:40.680637Z",
     "shell.execute_reply.started": "2024-01-19T11:46:40.672011Z"
    }
   },
   "outputs": [
    {
     "data": {
      "text/plain": [
       "Index(['purpose_all_other', 'purpose_credit_card',\n",
       "       'purpose_debt_consolidation', 'purpose_educational',\n",
       "       'purpose_home_improvement', 'purpose_major_purchase',\n",
       "       'purpose_small_business'],\n",
       "      dtype='object')"
      ]
     },
     "execution_count": 21,
     "metadata": {},
     "output_type": "execute_result"
    }
   ],
   "source": [
    "col_list_new[13:]"
   ]
  },
  {
   "cell_type": "code",
   "execution_count": 22,
   "metadata": {
    "execution": {
     "iopub.execute_input": "2024-01-19T11:46:40.683958Z",
     "iopub.status.busy": "2024-01-19T11:46:40.683359Z",
     "iopub.status.idle": "2024-01-19T11:46:40.695297Z",
     "shell.execute_reply": "2024-01-19T11:46:40.694537Z",
     "shell.execute_reply.started": "2024-01-19T11:46:40.683916Z"
    }
   },
   "outputs": [
    {
     "data": {
      "text/plain": [
       "Index(['purpose_all_other', 'purpose_credit_card',\n",
       "       'purpose_debt_consolidation', 'purpose_educational',\n",
       "       'purpose_home_improvement', 'purpose_major_purchase',\n",
       "       'purpose_small_business'],\n",
       "      dtype='object')"
      ]
     },
     "execution_count": 22,
     "metadata": {},
     "output_type": "execute_result"
    }
   ],
   "source": [
    "col_list_purpose = col_list_new[13:]\n",
    "col_list_purpose"
   ]
  },
  {
   "cell_type": "code",
   "execution_count": 23,
   "metadata": {
    "execution": {
     "iopub.execute_input": "2024-01-19T11:46:40.697998Z",
     "iopub.status.busy": "2024-01-19T11:46:40.697029Z",
     "iopub.status.idle": "2024-01-19T11:46:40.706914Z",
     "shell.execute_reply": "2024-01-19T11:46:40.706007Z",
     "shell.execute_reply.started": "2024-01-19T11:46:40.697955Z"
    }
   },
   "outputs": [],
   "source": [
    "for i in col_list_purpose:\n",
    "    data_p[i] = data_p[i].astype(int)"
   ]
  },
  {
   "cell_type": "code",
   "execution_count": 24,
   "metadata": {
    "execution": {
     "iopub.execute_input": "2024-01-19T11:46:40.709084Z",
     "iopub.status.busy": "2024-01-19T11:46:40.708393Z",
     "iopub.status.idle": "2024-01-19T11:46:40.730493Z",
     "shell.execute_reply": "2024-01-19T11:46:40.729389Z",
     "shell.execute_reply.started": "2024-01-19T11:46:40.709044Z"
    }
   },
   "outputs": [
    {
     "data": {
      "text/html": [
       "<div>\n",
       "<style scoped>\n",
       "    .dataframe tbody tr th:only-of-type {\n",
       "        vertical-align: middle;\n",
       "    }\n",
       "\n",
       "    .dataframe tbody tr th {\n",
       "        vertical-align: top;\n",
       "    }\n",
       "\n",
       "    .dataframe thead th {\n",
       "        text-align: right;\n",
       "    }\n",
       "</style>\n",
       "<table border=\"1\" class=\"dataframe\">\n",
       "  <thead>\n",
       "    <tr style=\"text-align: right;\">\n",
       "      <th></th>\n",
       "      <th>credit.policy</th>\n",
       "      <th>int.rate</th>\n",
       "      <th>installment</th>\n",
       "      <th>log.annual.inc</th>\n",
       "      <th>dti</th>\n",
       "      <th>fico</th>\n",
       "      <th>days.with.cr.line</th>\n",
       "      <th>revol.bal</th>\n",
       "      <th>revol.util</th>\n",
       "      <th>inq.last.6mths</th>\n",
       "      <th>delinq.2yrs</th>\n",
       "      <th>pub.rec</th>\n",
       "      <th>not.fully.paid</th>\n",
       "      <th>purpose_all_other</th>\n",
       "      <th>purpose_credit_card</th>\n",
       "      <th>purpose_debt_consolidation</th>\n",
       "      <th>purpose_educational</th>\n",
       "      <th>purpose_home_improvement</th>\n",
       "      <th>purpose_major_purchase</th>\n",
       "      <th>purpose_small_business</th>\n",
       "    </tr>\n",
       "  </thead>\n",
       "  <tbody>\n",
       "    <tr>\n",
       "      <th>0</th>\n",
       "      <td>1</td>\n",
       "      <td>0.1189</td>\n",
       "      <td>829.10</td>\n",
       "      <td>11.350407</td>\n",
       "      <td>19.48</td>\n",
       "      <td>737</td>\n",
       "      <td>5639.958333</td>\n",
       "      <td>28854</td>\n",
       "      <td>52.1</td>\n",
       "      <td>0</td>\n",
       "      <td>0</td>\n",
       "      <td>0</td>\n",
       "      <td>0</td>\n",
       "      <td>0</td>\n",
       "      <td>0</td>\n",
       "      <td>1</td>\n",
       "      <td>0</td>\n",
       "      <td>0</td>\n",
       "      <td>0</td>\n",
       "      <td>0</td>\n",
       "    </tr>\n",
       "    <tr>\n",
       "      <th>1</th>\n",
       "      <td>1</td>\n",
       "      <td>0.1071</td>\n",
       "      <td>228.22</td>\n",
       "      <td>11.082143</td>\n",
       "      <td>14.29</td>\n",
       "      <td>707</td>\n",
       "      <td>2760.000000</td>\n",
       "      <td>33623</td>\n",
       "      <td>76.7</td>\n",
       "      <td>0</td>\n",
       "      <td>0</td>\n",
       "      <td>0</td>\n",
       "      <td>0</td>\n",
       "      <td>0</td>\n",
       "      <td>1</td>\n",
       "      <td>0</td>\n",
       "      <td>0</td>\n",
       "      <td>0</td>\n",
       "      <td>0</td>\n",
       "      <td>0</td>\n",
       "    </tr>\n",
       "    <tr>\n",
       "      <th>2</th>\n",
       "      <td>1</td>\n",
       "      <td>0.1357</td>\n",
       "      <td>366.86</td>\n",
       "      <td>10.373491</td>\n",
       "      <td>11.63</td>\n",
       "      <td>682</td>\n",
       "      <td>4710.000000</td>\n",
       "      <td>3511</td>\n",
       "      <td>25.6</td>\n",
       "      <td>1</td>\n",
       "      <td>0</td>\n",
       "      <td>0</td>\n",
       "      <td>0</td>\n",
       "      <td>0</td>\n",
       "      <td>0</td>\n",
       "      <td>1</td>\n",
       "      <td>0</td>\n",
       "      <td>0</td>\n",
       "      <td>0</td>\n",
       "      <td>0</td>\n",
       "    </tr>\n",
       "    <tr>\n",
       "      <th>3</th>\n",
       "      <td>1</td>\n",
       "      <td>0.1008</td>\n",
       "      <td>162.34</td>\n",
       "      <td>11.350407</td>\n",
       "      <td>8.10</td>\n",
       "      <td>712</td>\n",
       "      <td>2699.958333</td>\n",
       "      <td>33667</td>\n",
       "      <td>73.2</td>\n",
       "      <td>1</td>\n",
       "      <td>0</td>\n",
       "      <td>0</td>\n",
       "      <td>0</td>\n",
       "      <td>0</td>\n",
       "      <td>0</td>\n",
       "      <td>1</td>\n",
       "      <td>0</td>\n",
       "      <td>0</td>\n",
       "      <td>0</td>\n",
       "      <td>0</td>\n",
       "    </tr>\n",
       "    <tr>\n",
       "      <th>4</th>\n",
       "      <td>1</td>\n",
       "      <td>0.1426</td>\n",
       "      <td>102.92</td>\n",
       "      <td>11.299732</td>\n",
       "      <td>14.97</td>\n",
       "      <td>667</td>\n",
       "      <td>4066.000000</td>\n",
       "      <td>4740</td>\n",
       "      <td>39.5</td>\n",
       "      <td>0</td>\n",
       "      <td>1</td>\n",
       "      <td>0</td>\n",
       "      <td>0</td>\n",
       "      <td>0</td>\n",
       "      <td>1</td>\n",
       "      <td>0</td>\n",
       "      <td>0</td>\n",
       "      <td>0</td>\n",
       "      <td>0</td>\n",
       "      <td>0</td>\n",
       "    </tr>\n",
       "  </tbody>\n",
       "</table>\n",
       "</div>"
      ],
      "text/plain": [
       "   credit.policy  int.rate  installment  log.annual.inc    dti  fico  \\\n",
       "0              1    0.1189       829.10       11.350407  19.48   737   \n",
       "1              1    0.1071       228.22       11.082143  14.29   707   \n",
       "2              1    0.1357       366.86       10.373491  11.63   682   \n",
       "3              1    0.1008       162.34       11.350407   8.10   712   \n",
       "4              1    0.1426       102.92       11.299732  14.97   667   \n",
       "\n",
       "   days.with.cr.line  revol.bal  revol.util  inq.last.6mths  delinq.2yrs  \\\n",
       "0        5639.958333      28854        52.1               0            0   \n",
       "1        2760.000000      33623        76.7               0            0   \n",
       "2        4710.000000       3511        25.6               1            0   \n",
       "3        2699.958333      33667        73.2               1            0   \n",
       "4        4066.000000       4740        39.5               0            1   \n",
       "\n",
       "   pub.rec  not.fully.paid  purpose_all_other  purpose_credit_card  \\\n",
       "0        0               0                  0                    0   \n",
       "1        0               0                  0                    1   \n",
       "2        0               0                  0                    0   \n",
       "3        0               0                  0                    0   \n",
       "4        0               0                  0                    1   \n",
       "\n",
       "   purpose_debt_consolidation  purpose_educational  purpose_home_improvement  \\\n",
       "0                           1                    0                         0   \n",
       "1                           0                    0                         0   \n",
       "2                           1                    0                         0   \n",
       "3                           1                    0                         0   \n",
       "4                           0                    0                         0   \n",
       "\n",
       "   purpose_major_purchase  purpose_small_business  \n",
       "0                       0                       0  \n",
       "1                       0                       0  \n",
       "2                       0                       0  \n",
       "3                       0                       0  \n",
       "4                       0                       0  "
      ]
     },
     "execution_count": 24,
     "metadata": {},
     "output_type": "execute_result"
    }
   ],
   "source": [
    "data_p.head()"
   ]
  },
  {
   "cell_type": "code",
   "execution_count": 25,
   "metadata": {
    "execution": {
     "iopub.execute_input": "2024-01-19T11:46:40.732921Z",
     "iopub.status.busy": "2024-01-19T11:46:40.732235Z",
     "iopub.status.idle": "2024-01-19T11:46:40.737761Z",
     "shell.execute_reply": "2024-01-19T11:46:40.736621Z",
     "shell.execute_reply.started": "2024-01-19T11:46:40.732877Z"
    }
   },
   "outputs": [],
   "source": [
    "data = data_p"
   ]
  },
  {
   "cell_type": "code",
   "execution_count": 26,
   "metadata": {
    "execution": {
     "iopub.execute_input": "2024-01-19T11:46:40.740038Z",
     "iopub.status.busy": "2024-01-19T11:46:40.739378Z",
     "iopub.status.idle": "2024-01-19T11:46:40.763774Z",
     "shell.execute_reply": "2024-01-19T11:46:40.762886Z",
     "shell.execute_reply.started": "2024-01-19T11:46:40.739999Z"
    }
   },
   "outputs": [
    {
     "data": {
      "text/html": [
       "<div>\n",
       "<style scoped>\n",
       "    .dataframe tbody tr th:only-of-type {\n",
       "        vertical-align: middle;\n",
       "    }\n",
       "\n",
       "    .dataframe tbody tr th {\n",
       "        vertical-align: top;\n",
       "    }\n",
       "\n",
       "    .dataframe thead th {\n",
       "        text-align: right;\n",
       "    }\n",
       "</style>\n",
       "<table border=\"1\" class=\"dataframe\">\n",
       "  <thead>\n",
       "    <tr style=\"text-align: right;\">\n",
       "      <th></th>\n",
       "      <th>credit.policy</th>\n",
       "      <th>int.rate</th>\n",
       "      <th>installment</th>\n",
       "      <th>log.annual.inc</th>\n",
       "      <th>dti</th>\n",
       "      <th>fico</th>\n",
       "      <th>days.with.cr.line</th>\n",
       "      <th>revol.bal</th>\n",
       "      <th>revol.util</th>\n",
       "      <th>inq.last.6mths</th>\n",
       "      <th>delinq.2yrs</th>\n",
       "      <th>pub.rec</th>\n",
       "      <th>not.fully.paid</th>\n",
       "      <th>purpose_all_other</th>\n",
       "      <th>purpose_credit_card</th>\n",
       "      <th>purpose_debt_consolidation</th>\n",
       "      <th>purpose_educational</th>\n",
       "      <th>purpose_home_improvement</th>\n",
       "      <th>purpose_major_purchase</th>\n",
       "      <th>purpose_small_business</th>\n",
       "    </tr>\n",
       "  </thead>\n",
       "  <tbody>\n",
       "    <tr>\n",
       "      <th>0</th>\n",
       "      <td>1</td>\n",
       "      <td>0.1189</td>\n",
       "      <td>829.10</td>\n",
       "      <td>11.350407</td>\n",
       "      <td>19.48</td>\n",
       "      <td>737</td>\n",
       "      <td>5639.958333</td>\n",
       "      <td>28854</td>\n",
       "      <td>52.1</td>\n",
       "      <td>0</td>\n",
       "      <td>0</td>\n",
       "      <td>0</td>\n",
       "      <td>0</td>\n",
       "      <td>0</td>\n",
       "      <td>0</td>\n",
       "      <td>1</td>\n",
       "      <td>0</td>\n",
       "      <td>0</td>\n",
       "      <td>0</td>\n",
       "      <td>0</td>\n",
       "    </tr>\n",
       "    <tr>\n",
       "      <th>1</th>\n",
       "      <td>1</td>\n",
       "      <td>0.1071</td>\n",
       "      <td>228.22</td>\n",
       "      <td>11.082143</td>\n",
       "      <td>14.29</td>\n",
       "      <td>707</td>\n",
       "      <td>2760.000000</td>\n",
       "      <td>33623</td>\n",
       "      <td>76.7</td>\n",
       "      <td>0</td>\n",
       "      <td>0</td>\n",
       "      <td>0</td>\n",
       "      <td>0</td>\n",
       "      <td>0</td>\n",
       "      <td>1</td>\n",
       "      <td>0</td>\n",
       "      <td>0</td>\n",
       "      <td>0</td>\n",
       "      <td>0</td>\n",
       "      <td>0</td>\n",
       "    </tr>\n",
       "  </tbody>\n",
       "</table>\n",
       "</div>"
      ],
      "text/plain": [
       "   credit.policy  int.rate  installment  log.annual.inc    dti  fico  \\\n",
       "0              1    0.1189       829.10       11.350407  19.48   737   \n",
       "1              1    0.1071       228.22       11.082143  14.29   707   \n",
       "\n",
       "   days.with.cr.line  revol.bal  revol.util  inq.last.6mths  delinq.2yrs  \\\n",
       "0        5639.958333      28854        52.1               0            0   \n",
       "1        2760.000000      33623        76.7               0            0   \n",
       "\n",
       "   pub.rec  not.fully.paid  purpose_all_other  purpose_credit_card  \\\n",
       "0        0               0                  0                    0   \n",
       "1        0               0                  0                    1   \n",
       "\n",
       "   purpose_debt_consolidation  purpose_educational  purpose_home_improvement  \\\n",
       "0                           1                    0                         0   \n",
       "1                           0                    0                         0   \n",
       "\n",
       "   purpose_major_purchase  purpose_small_business  \n",
       "0                       0                       0  \n",
       "1                       0                       0  "
      ]
     },
     "execution_count": 26,
     "metadata": {},
     "output_type": "execute_result"
    }
   ],
   "source": [
    "data.head(2)"
   ]
  },
  {
   "cell_type": "markdown",
   "metadata": {},
   "source": [
    "### 7.2 Feature Scaling"
   ]
  },
  {
   "cell_type": "markdown",
   "metadata": {},
   "source": [
    "- Function that performs standard scaling over the following set of features (independent variables).</h4>\n",
    "\n",
    "> int.rate, installment, log.annual.inc, dti, fico, days.with.cr.line, revol.bal, revol.util."
   ]
  },
  {
   "cell_type": "code",
   "execution_count": 27,
   "metadata": {
    "execution": {
     "iopub.execute_input": "2024-01-19T11:46:40.765961Z",
     "iopub.status.busy": "2024-01-19T11:46:40.765264Z",
     "iopub.status.idle": "2024-01-19T11:46:40.775776Z",
     "shell.execute_reply": "2024-01-19T11:46:40.774676Z",
     "shell.execute_reply.started": "2024-01-19T11:46:40.765920Z"
    }
   },
   "outputs": [
    {
     "name": "stdout",
     "output_type": "stream",
     "text": [
      "(9578, 19)\n",
      "(9578,)\n"
     ]
    }
   ],
   "source": [
    "X = data.drop(labels='not.fully.paid', axis=1)\n",
    "y = data['not.fully.paid']\n",
    "\n",
    "scaler_labels = ['int.rate','installment', 'log.annual.inc', 'dti', 'fico', 'days.with.cr.line', 'revol.bal', 'revol.util']\n",
    "print(X.shape)\n",
    "print(y.shape)"
   ]
  },
  {
   "cell_type": "code",
   "execution_count": 28,
   "metadata": {
    "execution": {
     "iopub.execute_input": "2024-01-19T11:46:40.777721Z",
     "iopub.status.busy": "2024-01-19T11:46:40.777091Z",
     "iopub.status.idle": "2024-01-19T11:46:40.798868Z",
     "shell.execute_reply": "2024-01-19T11:46:40.797671Z",
     "shell.execute_reply.started": "2024-01-19T11:46:40.777690Z"
    }
   },
   "outputs": [
    {
     "data": {
      "text/html": [
       "<div>\n",
       "<style scoped>\n",
       "    .dataframe tbody tr th:only-of-type {\n",
       "        vertical-align: middle;\n",
       "    }\n",
       "\n",
       "    .dataframe tbody tr th {\n",
       "        vertical-align: top;\n",
       "    }\n",
       "\n",
       "    .dataframe thead th {\n",
       "        text-align: right;\n",
       "    }\n",
       "</style>\n",
       "<table border=\"1\" class=\"dataframe\">\n",
       "  <thead>\n",
       "    <tr style=\"text-align: right;\">\n",
       "      <th></th>\n",
       "      <th>credit.policy</th>\n",
       "      <th>int.rate</th>\n",
       "      <th>installment</th>\n",
       "      <th>log.annual.inc</th>\n",
       "      <th>dti</th>\n",
       "      <th>fico</th>\n",
       "      <th>days.with.cr.line</th>\n",
       "      <th>revol.bal</th>\n",
       "      <th>revol.util</th>\n",
       "      <th>inq.last.6mths</th>\n",
       "      <th>delinq.2yrs</th>\n",
       "      <th>pub.rec</th>\n",
       "      <th>purpose_all_other</th>\n",
       "      <th>purpose_credit_card</th>\n",
       "      <th>purpose_debt_consolidation</th>\n",
       "      <th>purpose_educational</th>\n",
       "      <th>purpose_home_improvement</th>\n",
       "      <th>purpose_major_purchase</th>\n",
       "      <th>purpose_small_business</th>\n",
       "    </tr>\n",
       "  </thead>\n",
       "  <tbody>\n",
       "    <tr>\n",
       "      <th>0</th>\n",
       "      <td>1</td>\n",
       "      <td>0.1189</td>\n",
       "      <td>829.10</td>\n",
       "      <td>11.350407</td>\n",
       "      <td>19.48</td>\n",
       "      <td>737</td>\n",
       "      <td>5639.958333</td>\n",
       "      <td>28854</td>\n",
       "      <td>52.1</td>\n",
       "      <td>0</td>\n",
       "      <td>0</td>\n",
       "      <td>0</td>\n",
       "      <td>0</td>\n",
       "      <td>0</td>\n",
       "      <td>1</td>\n",
       "      <td>0</td>\n",
       "      <td>0</td>\n",
       "      <td>0</td>\n",
       "      <td>0</td>\n",
       "    </tr>\n",
       "    <tr>\n",
       "      <th>1</th>\n",
       "      <td>1</td>\n",
       "      <td>0.1071</td>\n",
       "      <td>228.22</td>\n",
       "      <td>11.082143</td>\n",
       "      <td>14.29</td>\n",
       "      <td>707</td>\n",
       "      <td>2760.000000</td>\n",
       "      <td>33623</td>\n",
       "      <td>76.7</td>\n",
       "      <td>0</td>\n",
       "      <td>0</td>\n",
       "      <td>0</td>\n",
       "      <td>0</td>\n",
       "      <td>1</td>\n",
       "      <td>0</td>\n",
       "      <td>0</td>\n",
       "      <td>0</td>\n",
       "      <td>0</td>\n",
       "      <td>0</td>\n",
       "    </tr>\n",
       "    <tr>\n",
       "      <th>2</th>\n",
       "      <td>1</td>\n",
       "      <td>0.1357</td>\n",
       "      <td>366.86</td>\n",
       "      <td>10.373491</td>\n",
       "      <td>11.63</td>\n",
       "      <td>682</td>\n",
       "      <td>4710.000000</td>\n",
       "      <td>3511</td>\n",
       "      <td>25.6</td>\n",
       "      <td>1</td>\n",
       "      <td>0</td>\n",
       "      <td>0</td>\n",
       "      <td>0</td>\n",
       "      <td>0</td>\n",
       "      <td>1</td>\n",
       "      <td>0</td>\n",
       "      <td>0</td>\n",
       "      <td>0</td>\n",
       "      <td>0</td>\n",
       "    </tr>\n",
       "    <tr>\n",
       "      <th>3</th>\n",
       "      <td>1</td>\n",
       "      <td>0.1008</td>\n",
       "      <td>162.34</td>\n",
       "      <td>11.350407</td>\n",
       "      <td>8.10</td>\n",
       "      <td>712</td>\n",
       "      <td>2699.958333</td>\n",
       "      <td>33667</td>\n",
       "      <td>73.2</td>\n",
       "      <td>1</td>\n",
       "      <td>0</td>\n",
       "      <td>0</td>\n",
       "      <td>0</td>\n",
       "      <td>0</td>\n",
       "      <td>1</td>\n",
       "      <td>0</td>\n",
       "      <td>0</td>\n",
       "      <td>0</td>\n",
       "      <td>0</td>\n",
       "    </tr>\n",
       "    <tr>\n",
       "      <th>4</th>\n",
       "      <td>1</td>\n",
       "      <td>0.1426</td>\n",
       "      <td>102.92</td>\n",
       "      <td>11.299732</td>\n",
       "      <td>14.97</td>\n",
       "      <td>667</td>\n",
       "      <td>4066.000000</td>\n",
       "      <td>4740</td>\n",
       "      <td>39.5</td>\n",
       "      <td>0</td>\n",
       "      <td>1</td>\n",
       "      <td>0</td>\n",
       "      <td>0</td>\n",
       "      <td>1</td>\n",
       "      <td>0</td>\n",
       "      <td>0</td>\n",
       "      <td>0</td>\n",
       "      <td>0</td>\n",
       "      <td>0</td>\n",
       "    </tr>\n",
       "  </tbody>\n",
       "</table>\n",
       "</div>"
      ],
      "text/plain": [
       "   credit.policy  int.rate  installment  log.annual.inc    dti  fico  \\\n",
       "0              1    0.1189       829.10       11.350407  19.48   737   \n",
       "1              1    0.1071       228.22       11.082143  14.29   707   \n",
       "2              1    0.1357       366.86       10.373491  11.63   682   \n",
       "3              1    0.1008       162.34       11.350407   8.10   712   \n",
       "4              1    0.1426       102.92       11.299732  14.97   667   \n",
       "\n",
       "   days.with.cr.line  revol.bal  revol.util  inq.last.6mths  delinq.2yrs  \\\n",
       "0        5639.958333      28854        52.1               0            0   \n",
       "1        2760.000000      33623        76.7               0            0   \n",
       "2        4710.000000       3511        25.6               1            0   \n",
       "3        2699.958333      33667        73.2               1            0   \n",
       "4        4066.000000       4740        39.5               0            1   \n",
       "\n",
       "   pub.rec  purpose_all_other  purpose_credit_card  \\\n",
       "0        0                  0                    0   \n",
       "1        0                  0                    1   \n",
       "2        0                  0                    0   \n",
       "3        0                  0                    0   \n",
       "4        0                  0                    1   \n",
       "\n",
       "   purpose_debt_consolidation  purpose_educational  purpose_home_improvement  \\\n",
       "0                           1                    0                         0   \n",
       "1                           0                    0                         0   \n",
       "2                           1                    0                         0   \n",
       "3                           1                    0                         0   \n",
       "4                           0                    0                         0   \n",
       "\n",
       "   purpose_major_purchase  purpose_small_business  \n",
       "0                       0                       0  \n",
       "1                       0                       0  \n",
       "2                       0                       0  \n",
       "3                       0                       0  \n",
       "4                       0                       0  "
      ]
     },
     "execution_count": 28,
     "metadata": {},
     "output_type": "execute_result"
    }
   ],
   "source": [
    "X.head()"
   ]
  },
  {
   "cell_type": "code",
   "execution_count": 29,
   "metadata": {
    "execution": {
     "iopub.execute_input": "2024-01-19T11:46:40.810144Z",
     "iopub.status.busy": "2024-01-19T11:46:40.808854Z",
     "iopub.status.idle": "2024-01-19T11:46:40.816516Z",
     "shell.execute_reply": "2024-01-19T11:46:40.815260Z",
     "shell.execute_reply.started": "2024-01-19T11:46:40.810085Z"
    }
   },
   "outputs": [],
   "source": [
    "def datascaler(data=None, labels=None):\n",
    "    scaler = StandardScaler()\n",
    "    Xtrans = scaler.fit_transform(data[labels])\n",
    "    scaled_df = pd.DataFrame(data = Xtrans, columns = labels)\n",
    "    return scaled_df"
   ]
  },
  {
   "cell_type": "code",
   "execution_count": 30,
   "metadata": {
    "execution": {
     "iopub.execute_input": "2024-01-19T11:46:40.818611Z",
     "iopub.status.busy": "2024-01-19T11:46:40.818180Z",
     "iopub.status.idle": "2024-01-19T11:46:40.849962Z",
     "shell.execute_reply": "2024-01-19T11:46:40.848856Z",
     "shell.execute_reply.started": "2024-01-19T11:46:40.818570Z"
    }
   },
   "outputs": [
    {
     "data": {
      "text/html": [
       "<div>\n",
       "<style scoped>\n",
       "    .dataframe tbody tr th:only-of-type {\n",
       "        vertical-align: middle;\n",
       "    }\n",
       "\n",
       "    .dataframe tbody tr th {\n",
       "        vertical-align: top;\n",
       "    }\n",
       "\n",
       "    .dataframe thead th {\n",
       "        text-align: right;\n",
       "    }\n",
       "</style>\n",
       "<table border=\"1\" class=\"dataframe\">\n",
       "  <thead>\n",
       "    <tr style=\"text-align: right;\">\n",
       "      <th></th>\n",
       "      <th>int.rate</th>\n",
       "      <th>installment</th>\n",
       "      <th>log.annual.inc</th>\n",
       "      <th>dti</th>\n",
       "      <th>fico</th>\n",
       "      <th>days.with.cr.line</th>\n",
       "      <th>revol.bal</th>\n",
       "      <th>revol.util</th>\n",
       "    </tr>\n",
       "  </thead>\n",
       "  <tbody>\n",
       "    <tr>\n",
       "      <th>0</th>\n",
       "      <td>-0.139318</td>\n",
       "      <td>2.463099</td>\n",
       "      <td>0.680388</td>\n",
       "      <td>0.998505</td>\n",
       "      <td>0.688825</td>\n",
       "      <td>0.432230</td>\n",
       "      <td>0.353732</td>\n",
       "      <td>0.182704</td>\n",
       "    </tr>\n",
       "    <tr>\n",
       "      <th>1</th>\n",
       "      <td>-0.578868</td>\n",
       "      <td>-0.438854</td>\n",
       "      <td>0.244031</td>\n",
       "      <td>0.244540</td>\n",
       "      <td>-0.101303</td>\n",
       "      <td>-0.721230</td>\n",
       "      <td>0.495018</td>\n",
       "      <td>1.030602</td>\n",
       "    </tr>\n",
       "    <tr>\n",
       "      <th>2</th>\n",
       "      <td>0.486484</td>\n",
       "      <td>0.230708</td>\n",
       "      <td>-0.908659</td>\n",
       "      <td>-0.141885</td>\n",
       "      <td>-0.759742</td>\n",
       "      <td>0.059770</td>\n",
       "      <td>-0.397073</td>\n",
       "      <td>-0.730683</td>\n",
       "    </tr>\n",
       "    <tr>\n",
       "      <th>3</th>\n",
       "      <td>-0.813544</td>\n",
       "      <td>-0.757022</td>\n",
       "      <td>0.680388</td>\n",
       "      <td>-0.654697</td>\n",
       "      <td>0.030385</td>\n",
       "      <td>-0.745277</td>\n",
       "      <td>0.496321</td>\n",
       "      <td>0.909966</td>\n",
       "    </tr>\n",
       "    <tr>\n",
       "      <th>4</th>\n",
       "      <td>0.743509</td>\n",
       "      <td>-1.043992</td>\n",
       "      <td>0.597961</td>\n",
       "      <td>0.343326</td>\n",
       "      <td>-1.154806</td>\n",
       "      <td>-0.198161</td>\n",
       "      <td>-0.360663</td>\n",
       "      <td>-0.251586</td>\n",
       "    </tr>\n",
       "  </tbody>\n",
       "</table>\n",
       "</div>"
      ],
      "text/plain": [
       "   int.rate  installment  log.annual.inc       dti      fico  \\\n",
       "0 -0.139318     2.463099        0.680388  0.998505  0.688825   \n",
       "1 -0.578868    -0.438854        0.244031  0.244540 -0.101303   \n",
       "2  0.486484     0.230708       -0.908659 -0.141885 -0.759742   \n",
       "3 -0.813544    -0.757022        0.680388 -0.654697  0.030385   \n",
       "4  0.743509    -1.043992        0.597961  0.343326 -1.154806   \n",
       "\n",
       "   days.with.cr.line  revol.bal  revol.util  \n",
       "0           0.432230   0.353732    0.182704  \n",
       "1          -0.721230   0.495018    1.030602  \n",
       "2           0.059770  -0.397073   -0.730683  \n",
       "3          -0.745277   0.496321    0.909966  \n",
       "4          -0.198161  -0.360663   -0.251586  "
      ]
     },
     "execution_count": 30,
     "metadata": {},
     "output_type": "execute_result"
    }
   ],
   "source": [
    "X_scaled = datascaler(data=data, labels=scaler_labels)\n",
    "X_scaled.head()"
   ]
  },
  {
   "cell_type": "code",
   "execution_count": 31,
   "metadata": {
    "execution": {
     "iopub.execute_input": "2024-01-19T11:46:40.852063Z",
     "iopub.status.busy": "2024-01-19T11:46:40.851368Z",
     "iopub.status.idle": "2024-01-19T11:46:40.860320Z",
     "shell.execute_reply": "2024-01-19T11:46:40.859004Z",
     "shell.execute_reply.started": "2024-01-19T11:46:40.852021Z"
    }
   },
   "outputs": [
    {
     "data": {
      "text/plain": [
       "Index(['int.rate', 'installment', 'log.annual.inc', 'dti', 'fico',\n",
       "       'days.with.cr.line', 'revol.bal', 'revol.util'],\n",
       "      dtype='object')"
      ]
     },
     "execution_count": 31,
     "metadata": {},
     "output_type": "execute_result"
    }
   ],
   "source": [
    "X_scaled.columns"
   ]
  },
  {
   "cell_type": "markdown",
   "metadata": {},
   "source": [
    "- Function that concats scaled dataframe and dataframe that contains features apart from scalerlabels.\n"
   ]
  },
  {
   "cell_type": "code",
   "execution_count": 32,
   "metadata": {
    "execution": {
     "iopub.execute_input": "2024-01-19T11:46:40.863289Z",
     "iopub.status.busy": "2024-01-19T11:46:40.862430Z",
     "iopub.status.idle": "2024-01-19T11:46:40.880919Z",
     "shell.execute_reply": "2024-01-19T11:46:40.879864Z",
     "shell.execute_reply.started": "2024-01-19T11:46:40.863211Z"
    }
   },
   "outputs": [
    {
     "data": {
      "text/html": [
       "<div>\n",
       "<style scoped>\n",
       "    .dataframe tbody tr th:only-of-type {\n",
       "        vertical-align: middle;\n",
       "    }\n",
       "\n",
       "    .dataframe tbody tr th {\n",
       "        vertical-align: top;\n",
       "    }\n",
       "\n",
       "    .dataframe thead th {\n",
       "        text-align: right;\n",
       "    }\n",
       "</style>\n",
       "<table border=\"1\" class=\"dataframe\">\n",
       "  <thead>\n",
       "    <tr style=\"text-align: right;\">\n",
       "      <th></th>\n",
       "      <th>credit.policy</th>\n",
       "      <th>inq.last.6mths</th>\n",
       "      <th>delinq.2yrs</th>\n",
       "      <th>pub.rec</th>\n",
       "      <th>purpose_all_other</th>\n",
       "      <th>purpose_credit_card</th>\n",
       "      <th>purpose_debt_consolidation</th>\n",
       "      <th>purpose_educational</th>\n",
       "      <th>purpose_home_improvement</th>\n",
       "      <th>purpose_major_purchase</th>\n",
       "      <th>purpose_small_business</th>\n",
       "    </tr>\n",
       "  </thead>\n",
       "  <tbody>\n",
       "    <tr>\n",
       "      <th>0</th>\n",
       "      <td>1</td>\n",
       "      <td>0</td>\n",
       "      <td>0</td>\n",
       "      <td>0</td>\n",
       "      <td>0</td>\n",
       "      <td>0</td>\n",
       "      <td>1</td>\n",
       "      <td>0</td>\n",
       "      <td>0</td>\n",
       "      <td>0</td>\n",
       "      <td>0</td>\n",
       "    </tr>\n",
       "    <tr>\n",
       "      <th>1</th>\n",
       "      <td>1</td>\n",
       "      <td>0</td>\n",
       "      <td>0</td>\n",
       "      <td>0</td>\n",
       "      <td>0</td>\n",
       "      <td>1</td>\n",
       "      <td>0</td>\n",
       "      <td>0</td>\n",
       "      <td>0</td>\n",
       "      <td>0</td>\n",
       "      <td>0</td>\n",
       "    </tr>\n",
       "    <tr>\n",
       "      <th>2</th>\n",
       "      <td>1</td>\n",
       "      <td>1</td>\n",
       "      <td>0</td>\n",
       "      <td>0</td>\n",
       "      <td>0</td>\n",
       "      <td>0</td>\n",
       "      <td>1</td>\n",
       "      <td>0</td>\n",
       "      <td>0</td>\n",
       "      <td>0</td>\n",
       "      <td>0</td>\n",
       "    </tr>\n",
       "    <tr>\n",
       "      <th>3</th>\n",
       "      <td>1</td>\n",
       "      <td>1</td>\n",
       "      <td>0</td>\n",
       "      <td>0</td>\n",
       "      <td>0</td>\n",
       "      <td>0</td>\n",
       "      <td>1</td>\n",
       "      <td>0</td>\n",
       "      <td>0</td>\n",
       "      <td>0</td>\n",
       "      <td>0</td>\n",
       "    </tr>\n",
       "    <tr>\n",
       "      <th>4</th>\n",
       "      <td>1</td>\n",
       "      <td>0</td>\n",
       "      <td>1</td>\n",
       "      <td>0</td>\n",
       "      <td>0</td>\n",
       "      <td>1</td>\n",
       "      <td>0</td>\n",
       "      <td>0</td>\n",
       "      <td>0</td>\n",
       "      <td>0</td>\n",
       "      <td>0</td>\n",
       "    </tr>\n",
       "  </tbody>\n",
       "</table>\n",
       "</div>"
      ],
      "text/plain": [
       "   credit.policy  inq.last.6mths  delinq.2yrs  pub.rec  purpose_all_other  \\\n",
       "0              1               0            0        0                  0   \n",
       "1              1               0            0        0                  0   \n",
       "2              1               1            0        0                  0   \n",
       "3              1               1            0        0                  0   \n",
       "4              1               0            1        0                  0   \n",
       "\n",
       "   purpose_credit_card  purpose_debt_consolidation  purpose_educational  \\\n",
       "0                    0                           1                    0   \n",
       "1                    1                           0                    0   \n",
       "2                    0                           1                    0   \n",
       "3                    0                           1                    0   \n",
       "4                    1                           0                    0   \n",
       "\n",
       "   purpose_home_improvement  purpose_major_purchase  purpose_small_business  \n",
       "0                         0                       0                       0  \n",
       "1                         0                       0                       0  \n",
       "2                         0                       0                       0  \n",
       "3                         0                       0                       0  \n",
       "4                         0                       0                       0  "
      ]
     },
     "execution_count": 32,
     "metadata": {},
     "output_type": "execute_result"
    }
   ],
   "source": [
    "X.drop(labels=scaler_labels, axis=1).head()"
   ]
  },
  {
   "cell_type": "code",
   "execution_count": 33,
   "metadata": {
    "execution": {
     "iopub.execute_input": "2024-01-19T11:46:40.883080Z",
     "iopub.status.busy": "2024-01-19T11:46:40.882373Z",
     "iopub.status.idle": "2024-01-19T11:46:40.901882Z",
     "shell.execute_reply": "2024-01-19T11:46:40.900748Z",
     "shell.execute_reply.started": "2024-01-19T11:46:40.883037Z"
    }
   },
   "outputs": [
    {
     "data": {
      "text/html": [
       "<div>\n",
       "<style scoped>\n",
       "    .dataframe tbody tr th:only-of-type {\n",
       "        vertical-align: middle;\n",
       "    }\n",
       "\n",
       "    .dataframe tbody tr th {\n",
       "        vertical-align: top;\n",
       "    }\n",
       "\n",
       "    .dataframe thead th {\n",
       "        text-align: right;\n",
       "    }\n",
       "</style>\n",
       "<table border=\"1\" class=\"dataframe\">\n",
       "  <thead>\n",
       "    <tr style=\"text-align: right;\">\n",
       "      <th></th>\n",
       "      <th>credit.policy</th>\n",
       "      <th>inq.last.6mths</th>\n",
       "      <th>delinq.2yrs</th>\n",
       "      <th>pub.rec</th>\n",
       "      <th>purpose_all_other</th>\n",
       "      <th>purpose_credit_card</th>\n",
       "      <th>purpose_debt_consolidation</th>\n",
       "      <th>purpose_educational</th>\n",
       "      <th>purpose_home_improvement</th>\n",
       "      <th>purpose_major_purchase</th>\n",
       "      <th>purpose_small_business</th>\n",
       "    </tr>\n",
       "  </thead>\n",
       "  <tbody>\n",
       "    <tr>\n",
       "      <th>0</th>\n",
       "      <td>1</td>\n",
       "      <td>0</td>\n",
       "      <td>0</td>\n",
       "      <td>0</td>\n",
       "      <td>0</td>\n",
       "      <td>0</td>\n",
       "      <td>1</td>\n",
       "      <td>0</td>\n",
       "      <td>0</td>\n",
       "      <td>0</td>\n",
       "      <td>0</td>\n",
       "    </tr>\n",
       "    <tr>\n",
       "      <th>1</th>\n",
       "      <td>1</td>\n",
       "      <td>0</td>\n",
       "      <td>0</td>\n",
       "      <td>0</td>\n",
       "      <td>0</td>\n",
       "      <td>1</td>\n",
       "      <td>0</td>\n",
       "      <td>0</td>\n",
       "      <td>0</td>\n",
       "      <td>0</td>\n",
       "      <td>0</td>\n",
       "    </tr>\n",
       "    <tr>\n",
       "      <th>2</th>\n",
       "      <td>1</td>\n",
       "      <td>1</td>\n",
       "      <td>0</td>\n",
       "      <td>0</td>\n",
       "      <td>0</td>\n",
       "      <td>0</td>\n",
       "      <td>1</td>\n",
       "      <td>0</td>\n",
       "      <td>0</td>\n",
       "      <td>0</td>\n",
       "      <td>0</td>\n",
       "    </tr>\n",
       "    <tr>\n",
       "      <th>3</th>\n",
       "      <td>1</td>\n",
       "      <td>1</td>\n",
       "      <td>0</td>\n",
       "      <td>0</td>\n",
       "      <td>0</td>\n",
       "      <td>0</td>\n",
       "      <td>1</td>\n",
       "      <td>0</td>\n",
       "      <td>0</td>\n",
       "      <td>0</td>\n",
       "      <td>0</td>\n",
       "    </tr>\n",
       "    <tr>\n",
       "      <th>4</th>\n",
       "      <td>1</td>\n",
       "      <td>0</td>\n",
       "      <td>1</td>\n",
       "      <td>0</td>\n",
       "      <td>0</td>\n",
       "      <td>1</td>\n",
       "      <td>0</td>\n",
       "      <td>0</td>\n",
       "      <td>0</td>\n",
       "      <td>0</td>\n",
       "      <td>0</td>\n",
       "    </tr>\n",
       "  </tbody>\n",
       "</table>\n",
       "</div>"
      ],
      "text/plain": [
       "   credit.policy  inq.last.6mths  delinq.2yrs  pub.rec  purpose_all_other  \\\n",
       "0              1               0            0        0                  0   \n",
       "1              1               0            0        0                  0   \n",
       "2              1               1            0        0                  0   \n",
       "3              1               1            0        0                  0   \n",
       "4              1               0            1        0                  0   \n",
       "\n",
       "   purpose_credit_card  purpose_debt_consolidation  purpose_educational  \\\n",
       "0                    0                           1                    0   \n",
       "1                    1                           0                    0   \n",
       "2                    0                           1                    0   \n",
       "3                    0                           1                    0   \n",
       "4                    1                           0                    0   \n",
       "\n",
       "   purpose_home_improvement  purpose_major_purchase  purpose_small_business  \n",
       "0                         0                       0                       0  \n",
       "1                         0                       0                       0  \n",
       "2                         0                       0                       0  \n",
       "3                         0                       0                       0  \n",
       "4                         0                       0                       0  "
      ]
     },
     "execution_count": 33,
     "metadata": {},
     "output_type": "execute_result"
    }
   ],
   "source": [
    "X_remvals = X.drop(labels=scaler_labels, axis=1)\n",
    "X_remvals.head()"
   ]
  },
  {
   "cell_type": "code",
   "execution_count": 34,
   "metadata": {
    "execution": {
     "iopub.execute_input": "2024-01-19T11:46:40.904477Z",
     "iopub.status.busy": "2024-01-19T11:46:40.903433Z",
     "iopub.status.idle": "2024-01-19T11:46:40.924663Z",
     "shell.execute_reply": "2024-01-19T11:46:40.923606Z",
     "shell.execute_reply.started": "2024-01-19T11:46:40.904443Z"
    }
   },
   "outputs": [
    {
     "data": {
      "text/html": [
       "<div>\n",
       "<style scoped>\n",
       "    .dataframe tbody tr th:only-of-type {\n",
       "        vertical-align: middle;\n",
       "    }\n",
       "\n",
       "    .dataframe tbody tr th {\n",
       "        vertical-align: top;\n",
       "    }\n",
       "\n",
       "    .dataframe thead th {\n",
       "        text-align: right;\n",
       "    }\n",
       "</style>\n",
       "<table border=\"1\" class=\"dataframe\">\n",
       "  <thead>\n",
       "    <tr style=\"text-align: right;\">\n",
       "      <th></th>\n",
       "      <th>int.rate</th>\n",
       "      <th>installment</th>\n",
       "      <th>log.annual.inc</th>\n",
       "      <th>dti</th>\n",
       "      <th>fico</th>\n",
       "      <th>days.with.cr.line</th>\n",
       "      <th>revol.bal</th>\n",
       "      <th>revol.util</th>\n",
       "    </tr>\n",
       "  </thead>\n",
       "  <tbody>\n",
       "    <tr>\n",
       "      <th>0</th>\n",
       "      <td>-0.139318</td>\n",
       "      <td>2.463099</td>\n",
       "      <td>0.680388</td>\n",
       "      <td>0.998505</td>\n",
       "      <td>0.688825</td>\n",
       "      <td>0.432230</td>\n",
       "      <td>0.353732</td>\n",
       "      <td>0.182704</td>\n",
       "    </tr>\n",
       "    <tr>\n",
       "      <th>1</th>\n",
       "      <td>-0.578868</td>\n",
       "      <td>-0.438854</td>\n",
       "      <td>0.244031</td>\n",
       "      <td>0.244540</td>\n",
       "      <td>-0.101303</td>\n",
       "      <td>-0.721230</td>\n",
       "      <td>0.495018</td>\n",
       "      <td>1.030602</td>\n",
       "    </tr>\n",
       "    <tr>\n",
       "      <th>2</th>\n",
       "      <td>0.486484</td>\n",
       "      <td>0.230708</td>\n",
       "      <td>-0.908659</td>\n",
       "      <td>-0.141885</td>\n",
       "      <td>-0.759742</td>\n",
       "      <td>0.059770</td>\n",
       "      <td>-0.397073</td>\n",
       "      <td>-0.730683</td>\n",
       "    </tr>\n",
       "    <tr>\n",
       "      <th>3</th>\n",
       "      <td>-0.813544</td>\n",
       "      <td>-0.757022</td>\n",
       "      <td>0.680388</td>\n",
       "      <td>-0.654697</td>\n",
       "      <td>0.030385</td>\n",
       "      <td>-0.745277</td>\n",
       "      <td>0.496321</td>\n",
       "      <td>0.909966</td>\n",
       "    </tr>\n",
       "    <tr>\n",
       "      <th>4</th>\n",
       "      <td>0.743509</td>\n",
       "      <td>-1.043992</td>\n",
       "      <td>0.597961</td>\n",
       "      <td>0.343326</td>\n",
       "      <td>-1.154806</td>\n",
       "      <td>-0.198161</td>\n",
       "      <td>-0.360663</td>\n",
       "      <td>-0.251586</td>\n",
       "    </tr>\n",
       "  </tbody>\n",
       "</table>\n",
       "</div>"
      ],
      "text/plain": [
       "   int.rate  installment  log.annual.inc       dti      fico  \\\n",
       "0 -0.139318     2.463099        0.680388  0.998505  0.688825   \n",
       "1 -0.578868    -0.438854        0.244031  0.244540 -0.101303   \n",
       "2  0.486484     0.230708       -0.908659 -0.141885 -0.759742   \n",
       "3 -0.813544    -0.757022        0.680388 -0.654697  0.030385   \n",
       "4  0.743509    -1.043992        0.597961  0.343326 -1.154806   \n",
       "\n",
       "   days.with.cr.line  revol.bal  revol.util  \n",
       "0           0.432230   0.353732    0.182704  \n",
       "1          -0.721230   0.495018    1.030602  \n",
       "2           0.059770  -0.397073   -0.730683  \n",
       "3          -0.745277   0.496321    0.909966  \n",
       "4          -0.198161  -0.360663   -0.251586  "
      ]
     },
     "execution_count": 34,
     "metadata": {},
     "output_type": "execute_result"
    }
   ],
   "source": [
    "X_scaled.head()"
   ]
  },
  {
   "cell_type": "code",
   "execution_count": 35,
   "metadata": {
    "execution": {
     "iopub.execute_input": "2024-01-19T11:46:40.926986Z",
     "iopub.status.busy": "2024-01-19T11:46:40.926314Z",
     "iopub.status.idle": "2024-01-19T11:46:40.932148Z",
     "shell.execute_reply": "2024-01-19T11:46:40.930981Z",
     "shell.execute_reply.started": "2024-01-19T11:46:40.926936Z"
    }
   },
   "outputs": [],
   "source": [
    "def concatscaled():\n",
    "    final_data = pd.concat(objs =[X_scaled, X_remvals], axis=1)\n",
    "    return final_data"
   ]
  },
  {
   "cell_type": "code",
   "execution_count": 36,
   "metadata": {
    "execution": {
     "iopub.execute_input": "2024-01-19T11:46:40.934093Z",
     "iopub.status.busy": "2024-01-19T11:46:40.933246Z",
     "iopub.status.idle": "2024-01-19T11:46:40.961726Z",
     "shell.execute_reply": "2024-01-19T11:46:40.960648Z",
     "shell.execute_reply.started": "2024-01-19T11:46:40.934054Z"
    }
   },
   "outputs": [
    {
     "data": {
      "text/html": [
       "<div>\n",
       "<style scoped>\n",
       "    .dataframe tbody tr th:only-of-type {\n",
       "        vertical-align: middle;\n",
       "    }\n",
       "\n",
       "    .dataframe tbody tr th {\n",
       "        vertical-align: top;\n",
       "    }\n",
       "\n",
       "    .dataframe thead th {\n",
       "        text-align: right;\n",
       "    }\n",
       "</style>\n",
       "<table border=\"1\" class=\"dataframe\">\n",
       "  <thead>\n",
       "    <tr style=\"text-align: right;\">\n",
       "      <th></th>\n",
       "      <th>int.rate</th>\n",
       "      <th>installment</th>\n",
       "      <th>log.annual.inc</th>\n",
       "      <th>dti</th>\n",
       "      <th>fico</th>\n",
       "      <th>days.with.cr.line</th>\n",
       "      <th>revol.bal</th>\n",
       "      <th>revol.util</th>\n",
       "      <th>credit.policy</th>\n",
       "      <th>inq.last.6mths</th>\n",
       "      <th>delinq.2yrs</th>\n",
       "      <th>pub.rec</th>\n",
       "      <th>purpose_all_other</th>\n",
       "      <th>purpose_credit_card</th>\n",
       "      <th>purpose_debt_consolidation</th>\n",
       "      <th>purpose_educational</th>\n",
       "      <th>purpose_home_improvement</th>\n",
       "      <th>purpose_major_purchase</th>\n",
       "      <th>purpose_small_business</th>\n",
       "    </tr>\n",
       "  </thead>\n",
       "  <tbody>\n",
       "    <tr>\n",
       "      <th>0</th>\n",
       "      <td>-0.139318</td>\n",
       "      <td>2.463099</td>\n",
       "      <td>0.680388</td>\n",
       "      <td>0.998505</td>\n",
       "      <td>0.688825</td>\n",
       "      <td>0.432230</td>\n",
       "      <td>0.353732</td>\n",
       "      <td>0.182704</td>\n",
       "      <td>1</td>\n",
       "      <td>0</td>\n",
       "      <td>0</td>\n",
       "      <td>0</td>\n",
       "      <td>0</td>\n",
       "      <td>0</td>\n",
       "      <td>1</td>\n",
       "      <td>0</td>\n",
       "      <td>0</td>\n",
       "      <td>0</td>\n",
       "      <td>0</td>\n",
       "    </tr>\n",
       "    <tr>\n",
       "      <th>1</th>\n",
       "      <td>-0.578868</td>\n",
       "      <td>-0.438854</td>\n",
       "      <td>0.244031</td>\n",
       "      <td>0.244540</td>\n",
       "      <td>-0.101303</td>\n",
       "      <td>-0.721230</td>\n",
       "      <td>0.495018</td>\n",
       "      <td>1.030602</td>\n",
       "      <td>1</td>\n",
       "      <td>0</td>\n",
       "      <td>0</td>\n",
       "      <td>0</td>\n",
       "      <td>0</td>\n",
       "      <td>1</td>\n",
       "      <td>0</td>\n",
       "      <td>0</td>\n",
       "      <td>0</td>\n",
       "      <td>0</td>\n",
       "      <td>0</td>\n",
       "    </tr>\n",
       "    <tr>\n",
       "      <th>2</th>\n",
       "      <td>0.486484</td>\n",
       "      <td>0.230708</td>\n",
       "      <td>-0.908659</td>\n",
       "      <td>-0.141885</td>\n",
       "      <td>-0.759742</td>\n",
       "      <td>0.059770</td>\n",
       "      <td>-0.397073</td>\n",
       "      <td>-0.730683</td>\n",
       "      <td>1</td>\n",
       "      <td>1</td>\n",
       "      <td>0</td>\n",
       "      <td>0</td>\n",
       "      <td>0</td>\n",
       "      <td>0</td>\n",
       "      <td>1</td>\n",
       "      <td>0</td>\n",
       "      <td>0</td>\n",
       "      <td>0</td>\n",
       "      <td>0</td>\n",
       "    </tr>\n",
       "    <tr>\n",
       "      <th>3</th>\n",
       "      <td>-0.813544</td>\n",
       "      <td>-0.757022</td>\n",
       "      <td>0.680388</td>\n",
       "      <td>-0.654697</td>\n",
       "      <td>0.030385</td>\n",
       "      <td>-0.745277</td>\n",
       "      <td>0.496321</td>\n",
       "      <td>0.909966</td>\n",
       "      <td>1</td>\n",
       "      <td>1</td>\n",
       "      <td>0</td>\n",
       "      <td>0</td>\n",
       "      <td>0</td>\n",
       "      <td>0</td>\n",
       "      <td>1</td>\n",
       "      <td>0</td>\n",
       "      <td>0</td>\n",
       "      <td>0</td>\n",
       "      <td>0</td>\n",
       "    </tr>\n",
       "    <tr>\n",
       "      <th>4</th>\n",
       "      <td>0.743509</td>\n",
       "      <td>-1.043992</td>\n",
       "      <td>0.597961</td>\n",
       "      <td>0.343326</td>\n",
       "      <td>-1.154806</td>\n",
       "      <td>-0.198161</td>\n",
       "      <td>-0.360663</td>\n",
       "      <td>-0.251586</td>\n",
       "      <td>1</td>\n",
       "      <td>0</td>\n",
       "      <td>1</td>\n",
       "      <td>0</td>\n",
       "      <td>0</td>\n",
       "      <td>1</td>\n",
       "      <td>0</td>\n",
       "      <td>0</td>\n",
       "      <td>0</td>\n",
       "      <td>0</td>\n",
       "      <td>0</td>\n",
       "    </tr>\n",
       "  </tbody>\n",
       "</table>\n",
       "</div>"
      ],
      "text/plain": [
       "   int.rate  installment  log.annual.inc       dti      fico  \\\n",
       "0 -0.139318     2.463099        0.680388  0.998505  0.688825   \n",
       "1 -0.578868    -0.438854        0.244031  0.244540 -0.101303   \n",
       "2  0.486484     0.230708       -0.908659 -0.141885 -0.759742   \n",
       "3 -0.813544    -0.757022        0.680388 -0.654697  0.030385   \n",
       "4  0.743509    -1.043992        0.597961  0.343326 -1.154806   \n",
       "\n",
       "   days.with.cr.line  revol.bal  revol.util  credit.policy  inq.last.6mths  \\\n",
       "0           0.432230   0.353732    0.182704              1               0   \n",
       "1          -0.721230   0.495018    1.030602              1               0   \n",
       "2           0.059770  -0.397073   -0.730683              1               1   \n",
       "3          -0.745277   0.496321    0.909966              1               1   \n",
       "4          -0.198161  -0.360663   -0.251586              1               0   \n",
       "\n",
       "   delinq.2yrs  pub.rec  purpose_all_other  purpose_credit_card  \\\n",
       "0            0        0                  0                    0   \n",
       "1            0        0                  0                    1   \n",
       "2            0        0                  0                    0   \n",
       "3            0        0                  0                    0   \n",
       "4            1        0                  0                    1   \n",
       "\n",
       "   purpose_debt_consolidation  purpose_educational  purpose_home_improvement  \\\n",
       "0                           1                    0                         0   \n",
       "1                           0                    0                         0   \n",
       "2                           1                    0                         0   \n",
       "3                           1                    0                         0   \n",
       "4                           0                    0                         0   \n",
       "\n",
       "   purpose_major_purchase  purpose_small_business  \n",
       "0                       0                       0  \n",
       "1                       0                       0  \n",
       "2                       0                       0  \n",
       "3                       0                       0  \n",
       "4                       0                       0  "
      ]
     },
     "execution_count": 36,
     "metadata": {},
     "output_type": "execute_result"
    }
   ],
   "source": [
    "final_data = concatscaled()\n",
    "final_data.head()"
   ]
  },
  {
   "cell_type": "markdown",
   "metadata": {},
   "source": [
    "- Function that prepares the data according to the required Train-Test split."
   ]
  },
  {
   "cell_type": "code",
   "execution_count": 37,
   "metadata": {
    "execution": {
     "iopub.execute_input": "2024-01-19T11:46:40.963509Z",
     "iopub.status.busy": "2024-01-19T11:46:40.963128Z",
     "iopub.status.idle": "2024-01-19T11:46:40.968906Z",
     "shell.execute_reply": "2024-01-19T11:46:40.967845Z",
     "shell.execute_reply.started": "2024-01-19T11:46:40.963479Z"
    }
   },
   "outputs": [],
   "source": [
    "def data_prep(input=None, output=None):\n",
    "    X_train, X_test, y_train, y_test = train_test_split(input, output, test_size = 0.20, random_state=42)\n",
    "    return X_train, X_test, y_train, y_test"
   ]
  },
  {
   "cell_type": "code",
   "execution_count": 38,
   "metadata": {
    "execution": {
     "iopub.execute_input": "2024-01-19T11:46:40.971143Z",
     "iopub.status.busy": "2024-01-19T11:46:40.970360Z",
     "iopub.status.idle": "2024-01-19T11:46:40.986874Z",
     "shell.execute_reply": "2024-01-19T11:46:40.985538Z",
     "shell.execute_reply.started": "2024-01-19T11:46:40.971103Z"
    }
   },
   "outputs": [],
   "source": [
    "X_train, X_test, y_train, y_test = data_prep(input = final_data, output = y)"
   ]
  },
  {
   "cell_type": "code",
   "execution_count": 39,
   "metadata": {
    "execution": {
     "iopub.execute_input": "2024-01-19T11:46:40.988777Z",
     "iopub.status.busy": "2024-01-19T11:46:40.988197Z",
     "iopub.status.idle": "2024-01-19T11:46:41.001756Z",
     "shell.execute_reply": "2024-01-19T11:46:40.998660Z",
     "shell.execute_reply.started": "2024-01-19T11:46:40.988744Z"
    }
   },
   "outputs": [
    {
     "name": "stdout",
     "output_type": "stream",
     "text": [
      "(9578,)\n"
     ]
    },
    {
     "data": {
      "text/plain": [
       "0    0\n",
       "1    0\n",
       "2    0\n",
       "3    0\n",
       "4    0\n",
       "Name: not.fully.paid, dtype: int32"
      ]
     },
     "execution_count": 39,
     "metadata": {},
     "output_type": "execute_result"
    }
   ],
   "source": [
    "print(y.shape)\n",
    "y.head()"
   ]
  },
  {
   "cell_type": "code",
   "execution_count": 40,
   "metadata": {
    "execution": {
     "iopub.execute_input": "2024-01-19T11:46:41.003415Z",
     "iopub.status.busy": "2024-01-19T11:46:41.003082Z",
     "iopub.status.idle": "2024-01-19T11:46:41.010787Z",
     "shell.execute_reply": "2024-01-19T11:46:41.009723Z",
     "shell.execute_reply.started": "2024-01-19T11:46:41.003385Z"
    }
   },
   "outputs": [
    {
     "name": "stdout",
     "output_type": "stream",
     "text": [
      "(7662, 19)\n",
      "(1916, 19)\n",
      "(7662,)\n",
      "(1916,)\n"
     ]
    }
   ],
   "source": [
    "print(X_train.shape)\n",
    "print(X_test.shape)\n",
    "print(y_train.shape)\n",
    "print(y_test.shape)"
   ]
  },
  {
   "cell_type": "markdown",
   "metadata": {},
   "source": [
    "## 8. Model Development & Evaluation\n",
    "\n",
    "\n",
    "- In this section, we are developing a decision tree-based model.\n",
    "\n",
    "- For **evaluation purposes** we are focussing on the **precision and recall score**.\n",
    "\n",
    "- Here, we are trying to **generalize results** i.e. same results or error on testing data as that of training data."
   ]
  },
  {
   "cell_type": "code",
   "execution_count": 41,
   "metadata": {
    "execution": {
     "iopub.execute_input": "2024-01-19T11:46:41.013202Z",
     "iopub.status.busy": "2024-01-19T11:46:41.012516Z",
     "iopub.status.idle": "2024-01-19T11:46:41.150237Z",
     "shell.execute_reply": "2024-01-19T11:46:41.149104Z",
     "shell.execute_reply.started": "2024-01-19T11:46:41.013163Z"
    }
   },
   "outputs": [
    {
     "data": {
      "text/plain": [
       "DecisionTreeClassifier(random_state=0)"
      ]
     },
     "execution_count": 41,
     "metadata": {},
     "output_type": "execute_result"
    }
   ],
   "source": [
    "clf_n = DecisionTreeClassifier(random_state = 0)\n",
    "clf_n.fit(X_train, y_train)"
   ]
  },
  {
   "cell_type": "code",
   "execution_count": 42,
   "metadata": {
    "execution": {
     "iopub.execute_input": "2024-01-19T11:46:41.151697Z",
     "iopub.status.busy": "2024-01-19T11:46:41.151376Z",
     "iopub.status.idle": "2024-01-19T11:46:41.166117Z",
     "shell.execute_reply": "2024-01-19T11:46:41.165026Z",
     "shell.execute_reply.started": "2024-01-19T11:46:41.151670Z"
    }
   },
   "outputs": [],
   "source": [
    "y_train_pred = clf_n.predict(X_train)\n",
    "y_test_pred = clf_n.predict(X_test)"
   ]
  },
  {
   "cell_type": "code",
   "execution_count": 43,
   "metadata": {
    "execution": {
     "iopub.execute_input": "2024-01-19T11:46:41.168525Z",
     "iopub.status.busy": "2024-01-19T11:46:41.167445Z",
     "iopub.status.idle": "2024-01-19T11:46:41.182255Z",
     "shell.execute_reply": "2024-01-19T11:46:41.180979Z",
     "shell.execute_reply.started": "2024-01-19T11:46:41.168464Z"
    }
   },
   "outputs": [
    {
     "name": "stdout",
     "output_type": "stream",
     "text": [
      "                         Predicted not fully paid  Predictrd Fully paid\n",
      "Actually not fully paid                      6434                     0\n",
      "Fully paid                                      0                  1228\n"
     ]
    }
   ],
   "source": [
    "confusion_matrix1 = pd.DataFrame(confusion_matrix(y_train, y_train_pred))\n",
    "\n",
    "confusion_matrix1.index = ['Actually not fully paid', 'Fully paid']\n",
    "confusion_matrix1.columns = ['Predicted not fully paid', 'Predictrd Fully paid']\n",
    "print(confusion_matrix1)"
   ]
  },
  {
   "cell_type": "code",
   "execution_count": 44,
   "metadata": {
    "execution": {
     "iopub.execute_input": "2024-01-19T11:46:41.184629Z",
     "iopub.status.busy": "2024-01-19T11:46:41.184194Z",
     "iopub.status.idle": "2024-01-19T11:46:41.196265Z",
     "shell.execute_reply": "2024-01-19T11:46:41.195198Z",
     "shell.execute_reply.started": "2024-01-19T11:46:41.184588Z"
    }
   },
   "outputs": [
    {
     "name": "stdout",
     "output_type": "stream",
     "text": [
      "                         Predicted not fully paid  Predictrd Fully paid\n",
      "Actually not fully paid                      1348                   263\n",
      "Fully paid                                    227                    78\n"
     ]
    }
   ],
   "source": [
    "confusion_matrix1 = pd.DataFrame(confusion_matrix(y_test, y_test_pred))\n",
    "\n",
    "confusion_matrix1.index = ['Actually not fully paid', 'Fully paid']\n",
    "confusion_matrix1.columns = ['Predicted not fully paid', 'Predictrd Fully paid']\n",
    "print(confusion_matrix1)"
   ]
  },
  {
   "cell_type": "markdown",
   "metadata": {},
   "source": [
    "**Observations:**\n",
    "\n",
    "- **Train Data:**\n",
    "  - Model predicted **6434** instances correctly for **negative class** while **1228** instances were predicted **correctly** for **positive class**.\n",
    "  - Model **identified 0** instances negative but in actual they **were positive**.\n",
    "  - Model **identified 0** instances positive but in actual they **were negative**.\n",
    "\n",
    "- **Test Data:**\n",
    "  - Model predicted **1348** instances correctly for **negative class** while **78** instances were predicted **correctly** for **positive class**.\n",
    "  - Model **identified 263** instances negative but in actual it **was positive**.\n",
    "  - Model **identified 227** instances positive but in actual they **were negative**."
   ]
  },
  {
   "cell_type": "markdown",
   "metadata": {},
   "source": [
    "- A total of **1348+78 = 1426** are the correct predictions and **227+263 = 490** are the false predictions."
   ]
  },
  {
   "cell_type": "markdown",
   "metadata": {},
   "source": [
    "- Function that generates a classification report using the decision tree classifier developed above."
   ]
  },
  {
   "cell_type": "code",
   "execution_count": 45,
   "metadata": {
    "execution": {
     "iopub.execute_input": "2024-01-19T11:46:41.198591Z",
     "iopub.status.busy": "2024-01-19T11:46:41.197624Z",
     "iopub.status.idle": "2024-01-19T11:46:41.205552Z",
     "shell.execute_reply": "2024-01-19T11:46:41.204310Z",
     "shell.execute_reply.started": "2024-01-19T11:46:41.198550Z"
    }
   },
   "outputs": [],
   "source": [
    "def getclassreport():\n",
    "    \n",
    "    y_train_pred = clf_n.predict(X_train)\n",
    "    y_test_pred = clf_n.predict(X_test)\n",
    "    \n",
    "    Training_report = classification_report(y_train, y_train_pred)\n",
    "    Testing_report = classification_report(y_test, y_test_pred)\n",
    "       \n",
    "    print('Training Report')\n",
    "    print(Training_report)\n",
    "    print('Testing Report')\n",
    "    print(Testing_report)\n",
    "    return "
   ]
  },
  {
   "cell_type": "code",
   "execution_count": 46,
   "metadata": {
    "execution": {
     "iopub.execute_input": "2024-01-19T11:46:41.207461Z",
     "iopub.status.busy": "2024-01-19T11:46:41.207049Z",
     "iopub.status.idle": "2024-01-19T11:46:41.249838Z",
     "shell.execute_reply": "2024-01-19T11:46:41.248712Z",
     "shell.execute_reply.started": "2024-01-19T11:46:41.207423Z"
    }
   },
   "outputs": [
    {
     "name": "stdout",
     "output_type": "stream",
     "text": [
      "Training Report\n",
      "              precision    recall  f1-score   support\n",
      "\n",
      "           0       1.00      1.00      1.00      6434\n",
      "           1       1.00      1.00      1.00      1228\n",
      "\n",
      "    accuracy                           1.00      7662\n",
      "   macro avg       1.00      1.00      1.00      7662\n",
      "weighted avg       1.00      1.00      1.00      7662\n",
      "\n",
      "Testing Report\n",
      "              precision    recall  f1-score   support\n",
      "\n",
      "           0       0.86      0.84      0.85      1611\n",
      "           1       0.23      0.26      0.24       305\n",
      "\n",
      "    accuracy                           0.74      1916\n",
      "   macro avg       0.54      0.55      0.54      1916\n",
      "weighted avg       0.76      0.74      0.75      1916\n",
      "\n"
     ]
    }
   ],
   "source": [
    "getclassreport()                   #clasificication report"
   ]
  },
  {
   "cell_type": "code",
   "execution_count": 47,
   "metadata": {
    "execution": {
     "iopub.execute_input": "2024-01-19T11:46:41.252543Z",
     "iopub.status.busy": "2024-01-19T11:46:41.251363Z",
     "iopub.status.idle": "2024-01-19T11:46:41.265002Z",
     "shell.execute_reply": "2024-01-19T11:46:41.264002Z",
     "shell.execute_reply.started": "2024-01-19T11:46:41.252499Z"
    }
   },
   "outputs": [
    {
     "data": {
      "text/plain": [
       "1.0"
      ]
     },
     "execution_count": 47,
     "metadata": {},
     "output_type": "execute_result"
    }
   ],
   "source": [
    "accuracy_score(y_train, y_train_pred)"
   ]
  },
  {
   "cell_type": "code",
   "execution_count": 48,
   "metadata": {
    "execution": {
     "iopub.execute_input": "2024-01-19T11:46:41.266967Z",
     "iopub.status.busy": "2024-01-19T11:46:41.266403Z",
     "iopub.status.idle": "2024-01-19T11:46:41.277605Z",
     "shell.execute_reply": "2024-01-19T11:46:41.276549Z",
     "shell.execute_reply.started": "2024-01-19T11:46:41.266916Z"
    }
   },
   "outputs": [
    {
     "data": {
      "text/plain": [
       "0.744258872651357"
      ]
     },
     "execution_count": 48,
     "metadata": {},
     "output_type": "execute_result"
    }
   ],
   "source": [
    "accuracy_score(y_test, y_test_pred)"
   ]
  },
  {
   "cell_type": "markdown",
   "metadata": {},
   "source": [
    "- A clear scenario of overfitting is evident, as the model significantly underperformed on unseen testing data."
   ]
  },
  {
   "cell_type": "markdown",
   "metadata": {},
   "source": [
    "**Observations:**\n",
    "\n",
    "- We can observe that **Training results** are **too good** to be true and the **Testing results** are mediocre. This is called **overfitting**.\n",
    "\n",
    "- On the test data report we can see that **class 0** is **performing well** while **class 1 is not**.\n",
    "\n",
    "- To **overcome** this problem, we are going to utilise **Hyper Parameter Tuning** with **cross validation**."
   ]
  },
  {
   "cell_type": "markdown",
   "metadata": {},
   "source": [
    "## 9. Hyper Parameter Tuning"
   ]
  },
  {
   "cell_type": "markdown",
   "metadata": {},
   "source": [
    "- The **parameters** we are adjusting to enhance our model's performance."
   ]
  },
  {
   "cell_type": "code",
   "execution_count": 49,
   "metadata": {
    "execution": {
     "iopub.execute_input": "2024-01-19T11:46:41.279234Z",
     "iopub.status.busy": "2024-01-19T11:46:41.278871Z",
     "iopub.status.idle": "2024-01-19T11:46:41.284922Z",
     "shell.execute_reply": "2024-01-19T11:46:41.283869Z",
     "shell.execute_reply.started": "2024-01-19T11:46:41.279207Z"
    }
   },
   "outputs": [],
   "source": [
    "param_dist = {'criterion':['gini','entropy'], \n",
    "              'max_depth':[1,2,3,4,5,6,7, None],\n",
    "             'max_leaf_nodes':[2,3]}"
   ]
  },
  {
   "cell_type": "code",
   "execution_count": 50,
   "metadata": {
    "execution": {
     "iopub.execute_input": "2024-01-19T11:46:41.286954Z",
     "iopub.status.busy": "2024-01-19T11:46:41.286264Z",
     "iopub.status.idle": "2024-01-19T11:46:41.294604Z",
     "shell.execute_reply": "2024-01-19T11:46:41.293457Z",
     "shell.execute_reply.started": "2024-01-19T11:46:41.286870Z"
    }
   },
   "outputs": [],
   "source": [
    "grid = GridSearchCV(clf_n, param_grid = param_dist, cv = 10, n_jobs = -1)"
   ]
  },
  {
   "cell_type": "code",
   "execution_count": 51,
   "metadata": {
    "execution": {
     "iopub.execute_input": "2024-01-19T11:46:41.297217Z",
     "iopub.status.busy": "2024-01-19T11:46:41.296436Z",
     "iopub.status.idle": "2024-01-19T11:46:46.085413Z",
     "shell.execute_reply": "2024-01-19T11:46:46.084141Z",
     "shell.execute_reply.started": "2024-01-19T11:46:41.297175Z"
    }
   },
   "outputs": [
    {
     "data": {
      "text/plain": [
       "GridSearchCV(cv=10, estimator=DecisionTreeClassifier(random_state=0), n_jobs=-1,\n",
       "             param_grid={'criterion': ['gini', 'entropy'],\n",
       "                         'max_depth': [1, 2, 3, 4, 5, 6, 7, None],\n",
       "                         'max_leaf_nodes': [2, 3]})"
      ]
     },
     "execution_count": 51,
     "metadata": {},
     "output_type": "execute_result"
    }
   ],
   "source": [
    "grid.fit(X_train, y_train)"
   ]
  },
  {
   "cell_type": "code",
   "execution_count": 52,
   "metadata": {
    "execution": {
     "iopub.execute_input": "2024-01-19T11:46:46.088551Z",
     "iopub.status.busy": "2024-01-19T11:46:46.088223Z",
     "iopub.status.idle": "2024-01-19T11:46:46.095491Z",
     "shell.execute_reply": "2024-01-19T11:46:46.094393Z",
     "shell.execute_reply.started": "2024-01-19T11:46:46.088521Z"
    }
   },
   "outputs": [
    {
     "data": {
      "text/plain": [
       "{'criterion': 'gini', 'max_depth': 1, 'max_leaf_nodes': 2}"
      ]
     },
     "execution_count": 52,
     "metadata": {},
     "output_type": "execute_result"
    }
   ],
   "source": [
    "grid.best_params_"
   ]
  },
  {
   "cell_type": "markdown",
   "metadata": {},
   "source": [
    "- These parameters represent the optimal configuration within our specified set, showcasing maximum model efficiency."
   ]
  },
  {
   "cell_type": "code",
   "execution_count": 53,
   "metadata": {
    "execution": {
     "iopub.execute_input": "2024-01-19T11:46:46.097680Z",
     "iopub.status.busy": "2024-01-19T11:46:46.097191Z",
     "iopub.status.idle": "2024-01-19T11:46:46.105609Z",
     "shell.execute_reply": "2024-01-19T11:46:46.104646Z",
     "shell.execute_reply.started": "2024-01-19T11:46:46.097649Z"
    }
   },
   "outputs": [
    {
     "data": {
      "text/plain": [
       "0.8397285548456057"
      ]
     },
     "execution_count": 53,
     "metadata": {},
     "output_type": "execute_result"
    }
   ],
   "source": [
    "grid.best_score_"
   ]
  },
  {
   "cell_type": "code",
   "execution_count": 54,
   "metadata": {
    "execution": {
     "iopub.execute_input": "2024-01-19T11:46:46.107608Z",
     "iopub.status.busy": "2024-01-19T11:46:46.107263Z",
     "iopub.status.idle": "2024-01-19T11:46:46.116185Z",
     "shell.execute_reply": "2024-01-19T11:46:46.115109Z",
     "shell.execute_reply.started": "2024-01-19T11:46:46.107579Z"
    }
   },
   "outputs": [],
   "source": [
    "y_test_pred2 = grid.predict(X_test)"
   ]
  },
  {
   "cell_type": "code",
   "execution_count": 55,
   "metadata": {
    "execution": {
     "iopub.execute_input": "2024-01-19T11:46:46.118307Z",
     "iopub.status.busy": "2024-01-19T11:46:46.117846Z",
     "iopub.status.idle": "2024-01-19T11:46:46.127599Z",
     "shell.execute_reply": "2024-01-19T11:46:46.126534Z",
     "shell.execute_reply.started": "2024-01-19T11:46:46.118277Z"
    }
   },
   "outputs": [],
   "source": [
    "y_train_pred2 = grid.predict(X_train)"
   ]
  },
  {
   "cell_type": "code",
   "execution_count": 56,
   "metadata": {
    "execution": {
     "iopub.execute_input": "2024-01-19T11:46:46.128919Z",
     "iopub.status.busy": "2024-01-19T11:46:46.128560Z",
     "iopub.status.idle": "2024-01-19T11:46:46.137969Z",
     "shell.execute_reply": "2024-01-19T11:46:46.136571Z",
     "shell.execute_reply.started": "2024-01-19T11:46:46.128882Z"
    }
   },
   "outputs": [
    {
     "name": "stdout",
     "output_type": "stream",
     "text": [
      "Testing Accuracy 0.8408141962421712\n"
     ]
    }
   ],
   "source": [
    "print('Testing Accuracy', accuracy_score(y_test, y_test_pred2))"
   ]
  },
  {
   "cell_type": "code",
   "execution_count": 57,
   "metadata": {
    "execution": {
     "iopub.execute_input": "2024-01-19T11:46:46.140573Z",
     "iopub.status.busy": "2024-01-19T11:46:46.140238Z",
     "iopub.status.idle": "2024-01-19T11:46:46.154194Z",
     "shell.execute_reply": "2024-01-19T11:46:46.152855Z",
     "shell.execute_reply.started": "2024-01-19T11:46:46.140545Z"
    }
   },
   "outputs": [
    {
     "name": "stdout",
     "output_type": "stream",
     "text": [
      "Training Accuracy 0.8397285304098147\n"
     ]
    }
   ],
   "source": [
    "print('Training Accuracy', accuracy_score(y_train, y_train_pred2))"
   ]
  },
  {
   "cell_type": "code",
   "execution_count": 58,
   "metadata": {
    "execution": {
     "iopub.execute_input": "2024-01-19T11:46:46.156241Z",
     "iopub.status.busy": "2024-01-19T11:46:46.155770Z",
     "iopub.status.idle": "2024-01-19T11:46:46.168322Z",
     "shell.execute_reply": "2024-01-19T11:46:46.167067Z",
     "shell.execute_reply.started": "2024-01-19T11:46:46.156198Z"
    }
   },
   "outputs": [
    {
     "name": "stdout",
     "output_type": "stream",
     "text": [
      "Difference b/w Training accuracy & Testing accuracy is 0.001085665832356586\n"
     ]
    }
   ],
   "source": [
    "print('Difference b/w Training accuracy & Testing accuracy is', (accuracy_score(y_test, y_test_pred2) - accuracy_score(y_train, y_train_pred2)))"
   ]
  },
  {
   "cell_type": "markdown",
   "metadata": {},
   "source": [
    "- The difference between training and testing accuracy is now less than **5%**, indicating **successful resolution of Overfitting**. The model has achieved a **Balanced fit**."
   ]
  },
  {
   "cell_type": "code",
   "execution_count": 59,
   "metadata": {
    "execution": {
     "iopub.execute_input": "2024-01-19T11:46:46.170059Z",
     "iopub.status.busy": "2024-01-19T11:46:46.169682Z",
     "iopub.status.idle": "2024-01-19T11:46:46.179077Z",
     "shell.execute_reply": "2024-01-19T11:46:46.178053Z",
     "shell.execute_reply.started": "2024-01-19T11:46:46.170029Z"
    }
   },
   "outputs": [
    {
     "data": {
      "text/plain": [
       "array([[1611,    0],\n",
       "       [ 305,    0]], dtype=int64)"
      ]
     },
     "execution_count": 59,
     "metadata": {},
     "output_type": "execute_result"
    }
   ],
   "source": [
    "confusion_matrix(y_test, y_test_pred2)"
   ]
  },
  {
   "cell_type": "code",
   "execution_count": 60,
   "metadata": {
    "execution": {
     "iopub.execute_input": "2024-01-19T11:46:46.181304Z",
     "iopub.status.busy": "2024-01-19T11:46:46.180638Z",
     "iopub.status.idle": "2024-01-19T11:46:46.190901Z",
     "shell.execute_reply": "2024-01-19T11:46:46.189863Z",
     "shell.execute_reply.started": "2024-01-19T11:46:46.181273Z"
    }
   },
   "outputs": [
    {
     "name": "stdout",
     "output_type": "stream",
     "text": [
      "                         Predicted not fully paid  Predictrd Fully paid\n",
      "Actually not fully paid                      1611                     0\n",
      "Fully paid                                    305                     0\n"
     ]
    }
   ],
   "source": [
    "cm2 = pd.DataFrame(confusion_matrix(y_test, y_test_pred2))\n",
    "\n",
    "cm2.index = ['Actually not fully paid', 'Fully paid']\n",
    "cm2.columns = ['Predicted not fully paid', 'Predictrd Fully paid']\n",
    "print(cm2)"
   ]
  },
  {
   "cell_type": "markdown",
   "metadata": {},
   "source": [
    "- **1611** are the correct predictions and **305** are the false predictions."
   ]
  },
  {
   "cell_type": "markdown",
   "metadata": {},
   "source": [
    "## 10. Summarization\n",
    "\n",
    "**Observations:**\n",
    "\n",
    "- We conducted **Encoding** and **Scaling** on our **data** to ensure it does not impact our model outcome.\n",
    "- We split the data into traditional train_test_split and developed a **Decision Tree** model.\n",
    "- We encountered **Overfitting** issues and observed suboptimal results on the test set due to **undersampled data**.\n",
    "- By leveraging hyperparameter tuning through **GridSearchCV**, the testing accuracy experienced a substantial improvement, rising from **0.74** to **0.84**.\n",
    "- This enhancement underscores the model's efficiency when applied to previously **unseen data**.\n",
    "- **Correct predictions** increased from **1426** to **1611**, while the **Incorrect predictions** decreased from **490** to **305**.\n",
    " "
   ]
  },
  {
   "cell_type": "code",
   "execution_count": null,
   "metadata": {},
   "outputs": [],
   "source": []
  }
 ],
 "metadata": {
  "kaggle": {
   "accelerator": "none",
   "dataSources": [
    {
     "datasetId": 103867,
     "sourceId": 246593,
     "sourceType": "datasetVersion"
    }
   ],
   "dockerImageVersionId": 30615,
   "isGpuEnabled": false,
   "isInternetEnabled": false,
   "language": "python",
   "sourceType": "notebook"
  },
  "kernelspec": {
   "display_name": "Python 3 (ipykernel)",
   "language": "python",
   "name": "python3"
  },
  "language_info": {
   "codemirror_mode": {
    "name": "ipython",
    "version": 3
   },
   "file_extension": ".py",
   "mimetype": "text/x-python",
   "name": "python",
   "nbconvert_exporter": "python",
   "pygments_lexer": "ipython3",
   "version": "3.9.12"
  }
 },
 "nbformat": 4,
 "nbformat_minor": 4
}
